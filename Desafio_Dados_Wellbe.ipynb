{
  "cells": [
    {
      "cell_type": "markdown",
      "metadata": {
        "id": "GJQ4UKzgFOM4"
      },
      "source": [
        "# Desafio de Dados - Wellbe"
      ]
    },
    {
      "cell_type": "markdown",
      "metadata": {
        "id": "zVas6m5zFONB"
      },
      "source": [
        "## <font color='black'>Introdução</font>\n",
        "\n",
        "Wellbe é uma plataforma empresarial de saúde e bem-estar que reduz custos de saúde para as empresas mensurando a efetividade de diversos benefícios e programas de saúde.\n",
        "\n",
        "- Wellbe Analytics - Integra diversos dados de saúde e oferece indicadores em tempo real para auxiliar na Gestão de Saúde, Gestão de Risco e Mensuração de ROI sobre os programas de saúde próprios e de terceiros.\n",
        "\n",
        "Para que o gestor consiga tomar uma boa decisão é necessário que os dados sejam extraídos, transformados e carregados para uma melhor visualização e entendimento, assim podendo tomar a melhor decisão.\n"
      ]
    },
    {
      "cell_type": "markdown",
      "metadata": {
        "id": "65fCh1VbFONH"
      },
      "source": [
        "## 2. Problema / Situação\n",
        "Considerando que os custos de saúde têm aumentado muito e baixa qualidade de vida afetando a produtividade, as empresas buscam soluções de qualidade de vida que possam reduzir esses gastos em saúde (o plano de saúde é um benefício onde o reajuste anual é  baseado na utilização dos colaboradores). Com cada vez mais empresas usando a Wellbe é necessário garantir agilidade e acurácia no processo de população do banco de dados."
      ]
    },
    {
      "cell_type": "markdown",
      "metadata": {
        "id": "-L28p3nFFONJ"
      },
      "source": [
        "## 3. Desafio\n",
        "Realizar uma implementação completa dos dados, desde extração, transformação e carregamento dos dados para a construção de um dashboard."
      ]
    },
    {
      "cell_type": "markdown",
      "metadata": {
        "id": "kWCmyjuwFONJ"
      },
      "source": [
        "## 3. Ferramentas Utilizadas\n",
        "-\tMySQL\n",
        "-\tPython3\n",
        "-\tJupyter Notebook\n",
        "-\tBibliotecas: pandas, mysql.connector, numpy, seaborn, matplotlib."
      ]
    },
    {
      "cell_type": "markdown",
      "metadata": {
        "id": "8t00BJk5FONL"
      },
      "source": [
        "## 4. Análise Exploratória"
      ]
    },
    {
      "cell_type": "markdown",
      "metadata": {
        "id": "EzWCdA9EFONM"
      },
      "source": [
        "Como primeiro passo, foram importados os pacotes necessários e o dataset em formato csv:"
      ]
    },
    {
      "cell_type": "code",
      "execution_count": null,
      "metadata": {
        "id": "J7taCJVXFONN"
      },
      "outputs": [],
      "source": [
        "# Importando pacotes a serem utilizados\n",
        "import pandas as pd\n",
        "import mysql.connector\n",
        "import numpy as np\n",
        "import seaborn as sns\n",
        "import matplotlib as mat\n",
        "import matplotlib.pyplot as plt\n",
        "from matplotlib import cm\n",
        "import warnings\n",
        "warnings.filterwarnings(\"ignore\")\n",
        "sns.set_theme(style = \"whitegrid\")"
      ]
    },
    {
      "cell_type": "code",
      "execution_count": null,
      "metadata": {
        "id": "fTmyxFVAFONQ"
      },
      "outputs": [],
      "source": [
        "# Importando o Dataset em csv\n",
        "arquivo = pd.read_csv('Dados_Atestados_v1.csv')"
      ]
    },
    {
      "cell_type": "markdown",
      "metadata": {
        "id": "Bfsux21UFONR"
      },
      "source": [
        "Foi realizada a análise das primeiras linhas do conjunto de dados onde foi possível observar que o título das colunas apresentava-se na 12ª linha e, que de forma geral existiam muitos valores nulos:"
      ]
    },
    {
      "cell_type": "code",
      "execution_count": null,
      "metadata": {
        "id": "bONou24lFONS",
        "outputId": "90eb9e8b-115e-4533-8674-6e5a0e03d05d"
      },
      "outputs": [
        {
          "data": {
            "text/html": [
              "<div>\n",
              "<style scoped>\n",
              "    .dataframe tbody tr th:only-of-type {\n",
              "        vertical-align: middle;\n",
              "    }\n",
              "\n",
              "    .dataframe tbody tr th {\n",
              "        vertical-align: top;\n",
              "    }\n",
              "\n",
              "    .dataframe thead th {\n",
              "        text-align: right;\n",
              "    }\n",
              "</style>\n",
              "<table border=\"1\" class=\"dataframe\">\n",
              "  <thead>\n",
              "    <tr style=\"text-align: right;\">\n",
              "      <th></th>\n",
              "      <th>Unnamed: 0</th>\n",
              "      <th>Unnamed: 1</th>\n",
              "      <th>Unnamed: 2</th>\n",
              "      <th>Unnamed: 3</th>\n",
              "      <th>Unnamed: 4</th>\n",
              "      <th>Unnamed: 5</th>\n",
              "      <th>Unnamed: 6</th>\n",
              "      <th>Unnamed: 7</th>\n",
              "      <th>Unnamed: 8</th>\n",
              "    </tr>\n",
              "  </thead>\n",
              "  <tbody>\n",
              "    <tr>\n",
              "      <th>0</th>\n",
              "      <td>NaN</td>\n",
              "      <td>NaN</td>\n",
              "      <td>NaN</td>\n",
              "      <td>NaN</td>\n",
              "      <td>NaN</td>\n",
              "      <td>NaN</td>\n",
              "      <td>NaN</td>\n",
              "      <td>NaN</td>\n",
              "      <td>NaN</td>\n",
              "    </tr>\n",
              "    <tr>\n",
              "      <th>1</th>\n",
              "      <td>NaN</td>\n",
              "      <td>NaN</td>\n",
              "      <td>NaN</td>\n",
              "      <td>NaN</td>\n",
              "      <td>NaN</td>\n",
              "      <td>NaN</td>\n",
              "      <td>NaN</td>\n",
              "      <td>NaN</td>\n",
              "      <td>NaN</td>\n",
              "    </tr>\n",
              "    <tr>\n",
              "      <th>2</th>\n",
              "      <td>NaN</td>\n",
              "      <td>NaN</td>\n",
              "      <td>NaN</td>\n",
              "      <td>NaN</td>\n",
              "      <td>NaN</td>\n",
              "      <td>NaN</td>\n",
              "      <td>NaN</td>\n",
              "      <td>NaN</td>\n",
              "      <td>NaN</td>\n",
              "    </tr>\n",
              "    <tr>\n",
              "      <th>3</th>\n",
              "      <td>NaN</td>\n",
              "      <td>NaN</td>\n",
              "      <td>NaN</td>\n",
              "      <td>NaN</td>\n",
              "      <td>NaN</td>\n",
              "      <td>NaN</td>\n",
              "      <td>NaN</td>\n",
              "      <td>NaN</td>\n",
              "      <td>NaN</td>\n",
              "    </tr>\n",
              "    <tr>\n",
              "      <th>4</th>\n",
              "      <td>NaN</td>\n",
              "      <td>NaN</td>\n",
              "      <td>NaN</td>\n",
              "      <td>NaN</td>\n",
              "      <td>NaN</td>\n",
              "      <td>NaN</td>\n",
              "      <td>NaN</td>\n",
              "      <td>NaN</td>\n",
              "      <td>NaN</td>\n",
              "    </tr>\n",
              "    <tr>\n",
              "      <th>5</th>\n",
              "      <td>NaN</td>\n",
              "      <td>NaN</td>\n",
              "      <td>NaN</td>\n",
              "      <td>NaN</td>\n",
              "      <td>NaN</td>\n",
              "      <td>NaN</td>\n",
              "      <td>NaN</td>\n",
              "      <td>NaN</td>\n",
              "      <td>NaN</td>\n",
              "    </tr>\n",
              "    <tr>\n",
              "      <th>6</th>\n",
              "      <td>NaN</td>\n",
              "      <td>NaN</td>\n",
              "      <td>NaN</td>\n",
              "      <td>NaN</td>\n",
              "      <td>NaN</td>\n",
              "      <td>NaN</td>\n",
              "      <td>NaN</td>\n",
              "      <td>NaN</td>\n",
              "      <td>NaN</td>\n",
              "    </tr>\n",
              "    <tr>\n",
              "      <th>7</th>\n",
              "      <td>NaN</td>\n",
              "      <td>NaN</td>\n",
              "      <td>NaN</td>\n",
              "      <td>NaN</td>\n",
              "      <td>NaN</td>\n",
              "      <td>NaN</td>\n",
              "      <td>NaN</td>\n",
              "      <td>NaN</td>\n",
              "      <td>NaN</td>\n",
              "    </tr>\n",
              "    <tr>\n",
              "      <th>8</th>\n",
              "      <td>Listagem de Atestados</td>\n",
              "      <td>NaN</td>\n",
              "      <td>NaN</td>\n",
              "      <td>NaN</td>\n",
              "      <td>NaN</td>\n",
              "      <td>NaN</td>\n",
              "      <td>NaN</td>\n",
              "      <td>NaN</td>\n",
              "      <td>NaN</td>\n",
              "    </tr>\n",
              "    <tr>\n",
              "      <th>9</th>\n",
              "      <td>Empresa:</td>\n",
              "      <td>NaN</td>\n",
              "      <td>NaN</td>\n",
              "      <td>NaN</td>\n",
              "      <td>NaN</td>\n",
              "      <td>NaN</td>\n",
              "      <td>NaN</td>\n",
              "      <td>NaN</td>\n",
              "      <td>NaN</td>\n",
              "    </tr>\n",
              "    <tr>\n",
              "      <th>10</th>\n",
              "      <td>NaN</td>\n",
              "      <td>NaN</td>\n",
              "      <td>NaN</td>\n",
              "      <td>NaN</td>\n",
              "      <td>NaN</td>\n",
              "      <td>NaN</td>\n",
              "      <td>NaN</td>\n",
              "      <td>NaN</td>\n",
              "      <td>NaN</td>\n",
              "    </tr>\n",
              "    <tr>\n",
              "      <th>11</th>\n",
              "      <td>NaN</td>\n",
              "      <td>NaN</td>\n",
              "      <td>NaN</td>\n",
              "      <td>NaN</td>\n",
              "      <td>NaN</td>\n",
              "      <td>NaN</td>\n",
              "      <td>NaN</td>\n",
              "      <td>NaN</td>\n",
              "      <td>NaN</td>\n",
              "    </tr>\n",
              "    <tr>\n",
              "      <th>12</th>\n",
              "      <td>Código</td>\n",
              "      <td>Custo do afastamento</td>\n",
              "      <td>Identificação</td>\n",
              "      <td>Funcionário</td>\n",
              "      <td>Cargo</td>\n",
              "      <td>Data do Atestado</td>\n",
              "      <td>Especialidade</td>\n",
              "      <td>Motivo</td>\n",
              "      <td>Líder</td>\n",
              "    </tr>\n",
              "    <tr>\n",
              "      <th>13</th>\n",
              "      <td>1036743</td>\n",
              "      <td>20,4</td>\n",
              "      <td>NaN</td>\n",
              "      <td>Anonimo 1</td>\n",
              "      <td>ASSISTENTE DE IMPLANTACAO</td>\n",
              "      <td>29/05/2019</td>\n",
              "      <td>Exames</td>\n",
              "      <td>Exames</td>\n",
              "      <td>Sim</td>\n",
              "    </tr>\n",
              "    <tr>\n",
              "      <th>14</th>\n",
              "      <td>1036742</td>\n",
              "      <td>23</td>\n",
              "      <td>NaN</td>\n",
              "      <td>Anonimo 1</td>\n",
              "      <td>ASSISTENTE DE IMPLANTACAO</td>\n",
              "      <td>23/05/2019</td>\n",
              "      <td>Neurologia pediátrica</td>\n",
              "      <td>Acompanhamento familiar</td>\n",
              "      <td>NaN</td>\n",
              "    </tr>\n",
              "  </tbody>\n",
              "</table>\n",
              "</div>"
            ],
            "text/plain": [
              "               Unnamed: 0            Unnamed: 1     Unnamed: 2   Unnamed: 3  \\\n",
              "0                     NaN                   NaN            NaN          NaN   \n",
              "1                     NaN                   NaN            NaN          NaN   \n",
              "2                     NaN                   NaN            NaN          NaN   \n",
              "3                     NaN                   NaN            NaN          NaN   \n",
              "4                     NaN                   NaN            NaN          NaN   \n",
              "5                     NaN                   NaN            NaN          NaN   \n",
              "6                     NaN                   NaN            NaN          NaN   \n",
              "7                     NaN                   NaN            NaN          NaN   \n",
              "8   Listagem de Atestados                   NaN            NaN          NaN   \n",
              "9               Empresa:                    NaN            NaN          NaN   \n",
              "10                    NaN                   NaN            NaN          NaN   \n",
              "11                    NaN                   NaN            NaN          NaN   \n",
              "12                 Código  Custo do afastamento  Identificação  Funcionário   \n",
              "13                1036743                  20,4            NaN    Anonimo 1   \n",
              "14                1036742                    23            NaN    Anonimo 1   \n",
              "\n",
              "                   Unnamed: 4        Unnamed: 5             Unnamed: 6  \\\n",
              "0                         NaN               NaN                    NaN   \n",
              "1                         NaN               NaN                    NaN   \n",
              "2                         NaN               NaN                    NaN   \n",
              "3                         NaN               NaN                    NaN   \n",
              "4                         NaN               NaN                    NaN   \n",
              "5                         NaN               NaN                    NaN   \n",
              "6                         NaN               NaN                    NaN   \n",
              "7                         NaN               NaN                    NaN   \n",
              "8                         NaN               NaN                    NaN   \n",
              "9                         NaN               NaN                    NaN   \n",
              "10                        NaN               NaN                    NaN   \n",
              "11                        NaN               NaN                    NaN   \n",
              "12                      Cargo  Data do Atestado          Especialidade   \n",
              "13  ASSISTENTE DE IMPLANTACAO        29/05/2019                 Exames   \n",
              "14  ASSISTENTE DE IMPLANTACAO        23/05/2019  Neurologia pediátrica   \n",
              "\n",
              "                 Unnamed: 7 Unnamed: 8  \n",
              "0                       NaN        NaN  \n",
              "1                       NaN        NaN  \n",
              "2                       NaN        NaN  \n",
              "3                       NaN        NaN  \n",
              "4                       NaN        NaN  \n",
              "5                       NaN        NaN  \n",
              "6                       NaN        NaN  \n",
              "7                       NaN        NaN  \n",
              "8                       NaN        NaN  \n",
              "9                       NaN        NaN  \n",
              "10                      NaN        NaN  \n",
              "11                      NaN        NaN  \n",
              "12                   Motivo      Líder  \n",
              "13                   Exames        Sim  \n",
              "14  Acompanhamento familiar        NaN  "
            ]
          },
          "execution_count": 3,
          "metadata": {},
          "output_type": "execute_result"
        }
      ],
      "source": [
        "# Visualizando as primeiras entradas dos dados importados\n",
        "arquivo.head(15)"
      ]
    },
    {
      "cell_type": "markdown",
      "metadata": {
        "id": "JIKKawMMFONU"
      },
      "source": [
        "Dessa forma, foi feita uma especificação do cabeçalho do arquivo e ignoradas as linhas anteriores:"
      ]
    },
    {
      "cell_type": "code",
      "execution_count": null,
      "metadata": {
        "id": "OF5N0_JeFONV",
        "outputId": "bc1e7ce8-dd00-4da8-bd04-937441c424d7"
      },
      "outputs": [
        {
          "data": {
            "text/html": [
              "<div>\n",
              "<style scoped>\n",
              "    .dataframe tbody tr th:only-of-type {\n",
              "        vertical-align: middle;\n",
              "    }\n",
              "\n",
              "    .dataframe tbody tr th {\n",
              "        vertical-align: top;\n",
              "    }\n",
              "\n",
              "    .dataframe thead th {\n",
              "        text-align: right;\n",
              "    }\n",
              "</style>\n",
              "<table border=\"1\" class=\"dataframe\">\n",
              "  <thead>\n",
              "    <tr style=\"text-align: right;\">\n",
              "      <th></th>\n",
              "      <th>Código</th>\n",
              "      <th>Custo do afastamento</th>\n",
              "      <th>Identificação</th>\n",
              "      <th>Funcionário</th>\n",
              "      <th>Cargo</th>\n",
              "      <th>Data do Atestado</th>\n",
              "      <th>Especialidade</th>\n",
              "      <th>Motivo</th>\n",
              "      <th>Líder</th>\n",
              "    </tr>\n",
              "  </thead>\n",
              "  <tbody>\n",
              "    <tr>\n",
              "      <th>0</th>\n",
              "      <td>1036743</td>\n",
              "      <td>20,4</td>\n",
              "      <td>NaN</td>\n",
              "      <td>Anonimo 1</td>\n",
              "      <td>ASSISTENTE DE IMPLANTACAO</td>\n",
              "      <td>29/05/2019</td>\n",
              "      <td>Exames</td>\n",
              "      <td>Exames</td>\n",
              "      <td>Sim</td>\n",
              "    </tr>\n",
              "    <tr>\n",
              "      <th>1</th>\n",
              "      <td>1036742</td>\n",
              "      <td>23</td>\n",
              "      <td>NaN</td>\n",
              "      <td>Anonimo 1</td>\n",
              "      <td>ASSISTENTE DE IMPLANTACAO</td>\n",
              "      <td>23/05/2019</td>\n",
              "      <td>Neurologia pediátrica</td>\n",
              "      <td>Acompanhamento familiar</td>\n",
              "      <td>NaN</td>\n",
              "    </tr>\n",
              "    <tr>\n",
              "      <th>2</th>\n",
              "      <td>1036741</td>\n",
              "      <td>22,8</td>\n",
              "      <td>NaN</td>\n",
              "      <td>Anonimo 1</td>\n",
              "      <td>ASSISTENTE DE IMPLANTACAO</td>\n",
              "      <td>17/05/2019</td>\n",
              "      <td>NaN</td>\n",
              "      <td>Consulta médica</td>\n",
              "      <td>NaN</td>\n",
              "    </tr>\n",
              "    <tr>\n",
              "      <th>3</th>\n",
              "      <td>1036740</td>\n",
              "      <td>–-</td>\n",
              "      <td>NaN</td>\n",
              "      <td>Anonimo 1</td>\n",
              "      <td>ASSISTENTE DE IMPLANTACAO</td>\n",
              "      <td>16/05/2019</td>\n",
              "      <td>Exames</td>\n",
              "      <td>Exames</td>\n",
              "      <td>NaN</td>\n",
              "    </tr>\n",
              "    <tr>\n",
              "      <th>4</th>\n",
              "      <td>1036739</td>\n",
              "      <td>22</td>\n",
              "      <td>NaN</td>\n",
              "      <td>Anonimo 1</td>\n",
              "      <td>ASSISTENTE DE IMPLANTACAO</td>\n",
              "      <td>06/05/2019</td>\n",
              "      <td>NaN</td>\n",
              "      <td>Consulta médica</td>\n",
              "      <td>NaN</td>\n",
              "    </tr>\n",
              "  </tbody>\n",
              "</table>\n",
              "</div>"
            ],
            "text/plain": [
              "    Código Custo do afastamento  Identificação Funcionário  \\\n",
              "0  1036743                 20,4            NaN   Anonimo 1   \n",
              "1  1036742                   23            NaN   Anonimo 1   \n",
              "2  1036741                 22,8            NaN   Anonimo 1   \n",
              "3  1036740                   –-            NaN   Anonimo 1   \n",
              "4  1036739                   22            NaN   Anonimo 1   \n",
              "\n",
              "                       Cargo Data do Atestado          Especialidade  \\\n",
              "0  ASSISTENTE DE IMPLANTACAO       29/05/2019                 Exames   \n",
              "1  ASSISTENTE DE IMPLANTACAO       23/05/2019  Neurologia pediátrica   \n",
              "2  ASSISTENTE DE IMPLANTACAO       17/05/2019                    NaN   \n",
              "3  ASSISTENTE DE IMPLANTACAO       16/05/2019                 Exames   \n",
              "4  ASSISTENTE DE IMPLANTACAO       06/05/2019                    NaN   \n",
              "\n",
              "                    Motivo Líder  \n",
              "0                   Exames   Sim  \n",
              "1  Acompanhamento familiar   NaN  \n",
              "2          Consulta médica   NaN  \n",
              "3                   Exames   NaN  \n",
              "4          Consulta médica   NaN  "
            ]
          },
          "execution_count": 4,
          "metadata": {},
          "output_type": "execute_result"
        }
      ],
      "source": [
        "# Especificando o cabeçalho do arquivo e ignorando as linhas anteriores\n",
        "arquivo = pd.read_csv('Dados_Atestados_v1.csv', header=13)\n",
        "arquivo.head()"
      ]
    },
    {
      "cell_type": "markdown",
      "metadata": {
        "id": "r4H6ocdHFONV"
      },
      "source": [
        "Para conhecer um pouco melhor os dados, foram observados os dados no próprio arquivo csv, foram visualizadas também as linhas finais do dataframe, quantidade e tipos de dados.\n",
        "\n",
        "Com essa análise, o que se pode observar foi o seguinte:\n",
        "\n",
        "1 - Já no arquivo csv pode-se notar que havia espaços antes e após os dados de algumas colunas;\n",
        "\n",
        "2 - Conforme checado nas linhas finais, aparentemente existiam valores nulos por toda a extensão dos dados;\n",
        "\n",
        "3 - Tratava-se de um conjunto de dados com 91 linhas e 9 colunas;\n",
        "\n",
        "4 - Os tipos dos dados não estavam todos corretos.\n"
      ]
    },
    {
      "cell_type": "code",
      "execution_count": null,
      "metadata": {
        "id": "2RtyLHHsFONW",
        "outputId": "546f4031-284a-490c-af48-6697823be413"
      },
      "outputs": [
        {
          "data": {
            "text/plain": [
              "(91, 9)"
            ]
          },
          "execution_count": 5,
          "metadata": {},
          "output_type": "execute_result"
        }
      ],
      "source": [
        "# Checando as dimensões do dataframe\n",
        "arquivo.shape"
      ]
    },
    {
      "cell_type": "code",
      "execution_count": null,
      "metadata": {
        "id": "8TLgpMUxFONW",
        "outputId": "93d389d9-7d07-4716-c23d-aa4be48ff646"
      },
      "outputs": [
        {
          "data": {
            "text/html": [
              "<div>\n",
              "<style scoped>\n",
              "    .dataframe tbody tr th:only-of-type {\n",
              "        vertical-align: middle;\n",
              "    }\n",
              "\n",
              "    .dataframe tbody tr th {\n",
              "        vertical-align: top;\n",
              "    }\n",
              "\n",
              "    .dataframe thead th {\n",
              "        text-align: right;\n",
              "    }\n",
              "</style>\n",
              "<table border=\"1\" class=\"dataframe\">\n",
              "  <thead>\n",
              "    <tr style=\"text-align: right;\">\n",
              "      <th></th>\n",
              "      <th>Código</th>\n",
              "      <th>Custo do afastamento</th>\n",
              "      <th>Identificação</th>\n",
              "      <th>Funcionário</th>\n",
              "      <th>Cargo</th>\n",
              "      <th>Data do Atestado</th>\n",
              "      <th>Especialidade</th>\n",
              "      <th>Motivo</th>\n",
              "      <th>Líder</th>\n",
              "    </tr>\n",
              "  </thead>\n",
              "  <tbody>\n",
              "    <tr>\n",
              "      <th>86</th>\n",
              "      <td>1037659</td>\n",
              "      <td>9524</td>\n",
              "      <td>NaN</td>\n",
              "      <td>Anonimo 21</td>\n",
              "      <td>ANALISTA SINISTROS I</td>\n",
              "      <td>04/06/2019</td>\n",
              "      <td>Oftalmologia</td>\n",
              "      <td>Acompanhamento familiar</td>\n",
              "      <td>Não</td>\n",
              "    </tr>\n",
              "    <tr>\n",
              "      <th>87</th>\n",
              "      <td>1027619</td>\n",
              "      <td>9524</td>\n",
              "      <td>NaN</td>\n",
              "      <td>Anonimo 21</td>\n",
              "      <td>ANALISTA SINISTROS I</td>\n",
              "      <td>13/03/2019</td>\n",
              "      <td>Pediatria</td>\n",
              "      <td>Acompanhamento familiar</td>\n",
              "      <td>NaN</td>\n",
              "    </tr>\n",
              "    <tr>\n",
              "      <th>88</th>\n",
              "      <td>1036380</td>\n",
              "      <td>NaN</td>\n",
              "      <td>NaN</td>\n",
              "      <td>Anonimo 22</td>\n",
              "      <td>AUDITOR II</td>\n",
              "      <td>31/05/2019</td>\n",
              "      <td>Cardiologista</td>\n",
              "      <td>Exames</td>\n",
              "      <td>Não</td>\n",
              "    </tr>\n",
              "    <tr>\n",
              "      <th>89</th>\n",
              "      <td>1032392</td>\n",
              "      <td>9916</td>\n",
              "      <td>NaN</td>\n",
              "      <td>Anonimo 22</td>\n",
              "      <td>ANALISTA ESTUDOS E COTACAO I</td>\n",
              "      <td>23/04/2019</td>\n",
              "      <td>Odontologia</td>\n",
              "      <td>Consulta odontológica</td>\n",
              "      <td>NaN</td>\n",
              "    </tr>\n",
              "    <tr>\n",
              "      <th>90</th>\n",
              "      <td>1027618</td>\n",
              "      <td>9916</td>\n",
              "      <td>NaN</td>\n",
              "      <td>Anonimo 22</td>\n",
              "      <td>ANALISTA ESTUDOS E COTACAO I</td>\n",
              "      <td>12/03/2019</td>\n",
              "      <td>Odontologia</td>\n",
              "      <td>Consulta odontológica</td>\n",
              "      <td>NaN</td>\n",
              "    </tr>\n",
              "  </tbody>\n",
              "</table>\n",
              "</div>"
            ],
            "text/plain": [
              "     Código Custo do afastamento  Identificação Funcionário  \\\n",
              "86  1037659                 9524            NaN  Anonimo 21   \n",
              "87  1027619                 9524            NaN  Anonimo 21   \n",
              "88  1036380                  NaN            NaN  Anonimo 22   \n",
              "89  1032392                 9916            NaN  Anonimo 22   \n",
              "90  1027618                 9916            NaN  Anonimo 22   \n",
              "\n",
              "                           Cargo Data do Atestado  Especialidade  \\\n",
              "86          ANALISTA SINISTROS I       04/06/2019   Oftalmologia   \n",
              "87          ANALISTA SINISTROS I       13/03/2019      Pediatria   \n",
              "88                    AUDITOR II       31/05/2019  Cardiologista   \n",
              "89  ANALISTA ESTUDOS E COTACAO I       23/04/2019   Odontologia    \n",
              "90  ANALISTA ESTUDOS E COTACAO I       12/03/2019   Odontologia    \n",
              "\n",
              "                     Motivo Líder  \n",
              "86  Acompanhamento familiar   Não  \n",
              "87  Acompanhamento familiar   NaN  \n",
              "88                   Exames   Não  \n",
              "89    Consulta odontológica   NaN  \n",
              "90    Consulta odontológica   NaN  "
            ]
          },
          "execution_count": 6,
          "metadata": {},
          "output_type": "execute_result"
        }
      ],
      "source": [
        "# Visualizando as últimas entradas\n",
        "arquivo.tail()"
      ]
    },
    {
      "cell_type": "code",
      "execution_count": null,
      "metadata": {
        "id": "Yf6MjBgaFONX",
        "outputId": "7e076608-115d-44d9-e758-b5e0b4f0b39c"
      },
      "outputs": [
        {
          "data": {
            "text/plain": [
              "Código                    int64\n",
              "Custo do afastamento     object\n",
              "Identificação           float64\n",
              "Funcionário              object\n",
              "Cargo                    object\n",
              "Data do Atestado         object\n",
              "Especialidade            object\n",
              "Motivo                   object\n",
              "Líder                    object\n",
              "dtype: object"
            ]
          },
          "execution_count": 7,
          "metadata": {},
          "output_type": "execute_result"
        }
      ],
      "source": [
        "# Verificando tipos de dados\n",
        "arquivo.dtypes"
      ]
    },
    {
      "cell_type": "markdown",
      "metadata": {
        "id": "IvMxlH0bFONY"
      },
      "source": [
        "## 5. Tratamento dos Dados"
      ]
    },
    {
      "cell_type": "markdown",
      "metadata": {
        "id": "ZBweoLHlFONZ"
      },
      "source": [
        "5.1 Primeiramente foram feitas as alterações dos tipos de dados:"
      ]
    },
    {
      "cell_type": "code",
      "execution_count": null,
      "metadata": {
        "id": "tieXCY9mFONZ"
      },
      "outputs": [],
      "source": [
        "# Alterando dados da coluna Custo do afastamento de str para float\n",
        "arquivo['Custo do afastamento'] = arquivo['Custo do afastamento'].str.replace(',', '.')\n",
        "arquivo['Custo do afastamento'] = pd.to_numeric(arquivo[\"Custo do afastamento\"], errors=\"coerce\")"
      ]
    },
    {
      "cell_type": "code",
      "execution_count": null,
      "metadata": {
        "id": "PiqQ_zvyFONZ"
      },
      "outputs": [],
      "source": [
        "# Alterando dados da coluna Identificação de float para str\n",
        "arquivo['Identificação'] = arquivo['Identificação'].astype(str)"
      ]
    },
    {
      "cell_type": "code",
      "execution_count": null,
      "metadata": {
        "id": "-k0mkIdGFONa"
      },
      "outputs": [],
      "source": [
        "# Alterando dados da coluna Data do Atestado de str para data\n",
        "arquivo['Data do Atestado'] = pd.to_datetime(arquivo['Data do Atestado'])"
      ]
    },
    {
      "cell_type": "code",
      "execution_count": null,
      "metadata": {
        "id": "B3b8KyPbFONa",
        "outputId": "9c508e00-c56e-4472-aead-bef19cdf5c24"
      },
      "outputs": [
        {
          "data": {
            "text/plain": [
              "Código                           int64\n",
              "Custo do afastamento           float64\n",
              "Identificação                   object\n",
              "Funcionário                     object\n",
              "Cargo                           object\n",
              "Data do Atestado        datetime64[ns]\n",
              "Especialidade                   object\n",
              "Motivo                          object\n",
              "Líder                           object\n",
              "dtype: object"
            ]
          },
          "execution_count": 11,
          "metadata": {},
          "output_type": "execute_result"
        }
      ],
      "source": [
        "# Visualizando tipos dos dados após tratamento\n",
        "arquivo.dtypes"
      ]
    },
    {
      "cell_type": "markdown",
      "metadata": {
        "id": "6IFixZRwFONb"
      },
      "source": [
        "5.2 Com relação aos dados nulos, os mesmos foram excluídos assim como, a coluna 'Líder' também foi removida, já que continha uma grande quantidade de valores ausentes e não seria utilizada diretamente para as perguntas de negócio desse caso em específico:"
      ]
    },
    {
      "cell_type": "code",
      "execution_count": null,
      "metadata": {
        "id": "ok7aocV2FONb",
        "outputId": "7ca1d730-a7cc-4dca-f048-287a7bdca959"
      },
      "outputs": [
        {
          "data": {
            "text/plain": [
              "Código                   0\n",
              "Custo do afastamento     2\n",
              "Identificação            0\n",
              "Funcionário              0\n",
              "Cargo                    3\n",
              "Data do Atestado         1\n",
              "Especialidade           16\n",
              "Motivo                   6\n",
              "Líder                   69\n",
              "dtype: int64"
            ]
          },
          "execution_count": 12,
          "metadata": {},
          "output_type": "execute_result"
        }
      ],
      "source": [
        "# Visualizando valores nulos por coluna\n",
        "arquivo.isnull().sum()"
      ]
    },
    {
      "cell_type": "code",
      "execution_count": null,
      "metadata": {
        "id": "GnwrRRs-FONb"
      },
      "outputs": [],
      "source": [
        "# Excluindo a coluna 'Líder'\n",
        "arquivo = arquivo.drop(columns=['Líder'])"
      ]
    },
    {
      "cell_type": "code",
      "execution_count": null,
      "metadata": {
        "pycharm": {
          "is_executing": true
        },
        "id": "51LAOgKQFONc"
      },
      "outputs": [],
      "source": [
        "# Tratando valores nulos\n",
        "arquivo = arquivo.dropna (how = 'any')\n",
        "arquivo['especialidade'] = arquivo['especialidade'].fillna('não informado')\n",
        "arquivo['custo'] = arquivo['custo'].fillna('0')\n",
        "arquivo['cargo'] = arquivo['cargo'].fillna('não informado')\n",
        "arquivo['lider'] = arquivo['lider'].fillna('não informado')\n",
        "arquivo['motivo'] = arquivo['motivo'].fillna('não informado')\n",
        "arquivo['identificacao'] = arquivo['identificacao'].fillna('não informado')"
      ]
    },
    {
      "cell_type": "code",
      "execution_count": null,
      "metadata": {
        "id": "ve5bftiSFONc",
        "outputId": "021ed21a-7dc9-4246-cc60-7f238aef7a1b"
      },
      "outputs": [
        {
          "data": {
            "text/plain": [
              "Código                  0\n",
              "Custo do afastamento    0\n",
              "Identificação           0\n",
              "Funcionário             0\n",
              "Cargo                   0\n",
              "Data do Atestado        0\n",
              "Especialidade           0\n",
              "Motivo                  0\n",
              "dtype: int64"
            ]
          },
          "execution_count": 15,
          "metadata": {},
          "output_type": "execute_result"
        }
      ],
      "source": [
        "# Visualizando valores nulos após tratamento\n",
        "arquivo.isnull().sum()"
      ]
    },
    {
      "cell_type": "markdown",
      "metadata": {
        "id": "eGn-h8MfFONd"
      },
      "source": [
        "5.3 Foi feita também a remoção de espaços:"
      ]
    },
    {
      "cell_type": "code",
      "execution_count": null,
      "metadata": {
        "id": "geLto_5YFONd"
      },
      "outputs": [],
      "source": [
        "# Tratando espaços\n",
        "arquivo['Identificação'] = arquivo['Identificação'].str.strip()\n",
        "arquivo['Funcionário'] = arquivo['Funcionário'].str.strip()\n",
        "arquivo['Cargo'] = arquivo['Cargo'].str.strip()\n",
        "arquivo['Especialidade'] = arquivo['Especialidade'].str.strip()\n",
        "arquivo['Motivo'] = arquivo['Motivo'].str.strip()"
      ]
    },
    {
      "cell_type": "code",
      "execution_count": null,
      "metadata": {
        "id": "cYobYT1DFONd",
        "outputId": "ccb6e471-b0bf-4829-d4b1-b80e09a79988"
      },
      "outputs": [
        {
          "data": {
            "text/plain": [
              "(69, 8)"
            ]
          },
          "execution_count": 17,
          "metadata": {},
          "output_type": "execute_result"
        }
      ],
      "source": [
        "# Checando as novas dimensões do dataframe\n",
        "arquivo.shape"
      ]
    },
    {
      "cell_type": "markdown",
      "metadata": {
        "id": "IXuI__gqFONe"
      },
      "source": [
        "## 6. Salvando dados Tratados"
      ]
    },
    {
      "cell_type": "markdown",
      "metadata": {
        "id": "byVW5v9tFONe"
      },
      "source": [
        "Uma vez realizada a etapa de exploração e tratamento dos dados, os mesmos foram salvos para então dar início a inserção no MySQL:"
      ]
    },
    {
      "cell_type": "code",
      "execution_count": null,
      "metadata": {
        "id": "a2qTJasmFONf"
      },
      "outputs": [],
      "source": [
        "# Salvando dados tratados\n",
        "arquivo.to_csv('Dados_Atestados_v2.csv')"
      ]
    },
    {
      "cell_type": "markdown",
      "metadata": {
        "id": "B8fBGDoxFONf"
      },
      "source": [
        "## 7. Inserindo os dados no MySQL"
      ]
    },
    {
      "cell_type": "markdown",
      "metadata": {
        "id": "nALQUaEWFONf"
      },
      "source": [
        "Antes de criar uma tabela no MySQL, foi feita a importação do dataset com os dados tratados em formato csv:"
      ]
    },
    {
      "cell_type": "code",
      "execution_count": null,
      "metadata": {
        "id": "dauXxL4HFONg"
      },
      "outputs": [],
      "source": [
        "# Importando o Dataset em csv\n",
        "dados = pd.read_csv('Dados_Atestados_v2.csv')"
      ]
    },
    {
      "cell_type": "markdown",
      "metadata": {
        "id": "uGNdMJUZFONg"
      },
      "source": [
        "Com utilização do mysql.connector foi realizada uma conexão entre o Jupyter Notebook e o banco de dados 'registros' que já havia sido criado no MySQL.\n",
        "\n",
        "Após isso, foi criada a tabela 'afastamentos', onde os dados do arquivo 'Dados_Atestados_v2.csv' foram inseridos:"
      ]
    },
    {
      "cell_type": "code",
      "execution_count": null,
      "metadata": {
        "id": "4-xO9y8pFONu",
        "outputId": "98477e6d-83f7-408a-df5c-36d8e188db00"
      },
      "outputs": [
        {
          "name": "stdout",
          "output_type": "stream",
          "text": [
            "Conectado ao Database:\n",
            "Criando Tabela....\n",
            "Tabela Criada....\n",
            "Registros inseridos.\n"
          ]
        }
      ],
      "source": [
        "import mysql.connector as msql\n",
        "from mysql.connector import Error\n",
        "try:\n",
        "    conn = msql.connect(host='127.0.0.1', database='registros', user='root', password='')\n",
        "    if conn.is_connected():\n",
        "        cursor = conn.cursor()\n",
        "        cursor.execute(\"select database();\")\n",
        "        record = cursor.fetchone()\n",
        "        print(\"Conectado ao Database:\")\n",
        "        cursor.execute('DROP TABLE IF EXISTS afastamentos;')\n",
        "        print('Criando Tabela....')\n",
        "\n",
        "        cursor.execute(\"CREATE TABLE afastamentos(id int PRIMARY KEY, codigo int,custo float,identificacao varchar(255),funcionario varchar(255),cargo varchar(255),data_do_afastamento datetime,especialidade varchar(255),motivo varchar(255))\")\n",
        "        print(\"Tabela Criada....\")\n",
        "\n",
        "        for i,row in dados.iterrows():\n",
        "            sql = \"INSERT INTO afastamentos VALUES (%s,%s,%s,%s,%s,%s,%s,%s,%s)\"\n",
        "            cursor.execute(sql, tuple(row))\n",
        "        print(\"Registros inseridos.\")\n",
        "            # the connection is not auto committed by default, so we must commit to save our changes\n",
        "        conn.commit()\n",
        "except Error as e:\n",
        "            print(\"Error while connecting to MySQL\", e)"
      ]
    },
    {
      "cell_type": "markdown",
      "metadata": {
        "id": "DWxR_Js8FONu"
      },
      "source": [
        "Foi realizada uma consulta na tabela para certificar que os nossos dados inseridos foram guardados corretamente."
      ]
    },
    {
      "cell_type": "code",
      "execution_count": null,
      "metadata": {
        "id": "scjUBwYlFONv",
        "outputId": "f50b01d3-b4dc-4fa0-8703-76feb46f7c88"
      },
      "outputs": [
        {
          "name": "stdout",
          "output_type": "stream",
          "text": [
            "(0, 1036743, 20.4, None, 'Anonimo 1', 'ASSISTENTE DE IMPLANTACAO', datetime.datetime(2019, 5, 29, 0, 0), 'Exames', 'Exames')\n",
            "(1, 1036742, 23.0, None, 'Anonimo 1', 'ASSISTENTE DE IMPLANTACAO', datetime.datetime(2019, 5, 23, 0, 0), 'Neurologia pediátrica', 'Acompanhamento familiar')\n",
            "(5, 1033172, 205.0, None, 'Anonimo 1', 'ASSISTENTE DE IMPLANTACAO', datetime.datetime(2019, 4, 24, 0, 0), 'Pediatria', 'Acompanhamento familiar')\n",
            "(6, 1032228, 123.0, None, 'Anonimo 1', 'ASSISTENTE DE IMPLANTACAO', datetime.datetime(2019, 4, 4, 0, 0), 'Neurologia pediátrica', 'Acompanhamento familiar')\n",
            "(7, 1030902, 205.0, None, 'Anonimo 1', 'ASSISTENTE DE IMPLANTACAO', datetime.datetime(2019, 7, 3, 0, 0), 'Odontologia', 'Consulta odontológica')\n",
            "(11, 1027641, 123.0, None, 'Anonimo 4', 'ANALISTA CONTROLE OPERACIONAL I', datetime.datetime(2019, 3, 13, 0, 0), 'Dermatologia', 'Consulta médica')\n",
            "(12, 1036760, 9236.0, None, 'Anonimo 5', 'ASSISTENTE OPERACIONAL II', datetime.datetime(2019, 5, 16, 0, 0), 'Neurologia', 'Consulta médica')\n",
            "(13, 1027590, 9670.0, None, 'Anonimo 6', 'ASSISTENTE CONTROLE OPERACIONAL', datetime.datetime(2019, 8, 3, 0, 0), 'Pediatria', 'Acompanhamento familiar')\n",
            "(14, 1037708, 9759.0, None, 'Anonimo 7', 'ANALISTA RISCOS II', datetime.datetime(2019, 7, 6, 0, 0), 'Ortopedia', 'Consulta médica')\n",
            "(15, 1036659, 9759.0, None, 'Anonimo 7', 'ANALISTA RISCOS II', datetime.datetime(2019, 5, 22, 0, 0), 'Ortopedia', 'Consulta médica')\n",
            "(16, 1036729, 310.0, None, 'Anonimo 8', 'ANALISTA INFORMACOES GERENCIAIS II', datetime.datetime(2019, 5, 27, 0, 0), 'Cardiologista', 'Consulta médica')\n",
            "(17, 1036730, 310.0, None, 'Anonimo 8', 'ANALISTA INFORMACOES GERENCIAIS II', datetime.datetime(2019, 5, 23, 0, 0), 'Cardiologista', 'Exames')\n",
            "(18, 1033416, 310.0, None, 'Anonimo 8', 'TECNICO SEGUROS I', datetime.datetime(2019, 4, 22, 0, 0), 'Cardiologista', 'Consulta médica')\n",
            "(19, 1032282, 310.0, None, 'Anonimo 8', 'ANALISTA INFORMACOES GERENCIAIS II', datetime.datetime(2019, 4, 17, 0, 0), 'Cardiologista', 'Exames')\n",
            "(20, 1032281, 310.0, None, 'Anonimo 8', 'ANALISTA INFORMACOES GERENCIAIS II', datetime.datetime(2019, 4, 16, 0, 0), 'Cardiologista', 'Consulta médica')\n",
            "(21, 1032235, 123.0, None, 'Anonimo 8', 'ANALISTA INFORMACOES GERENCIAIS II', datetime.datetime(2019, 11, 4, 0, 0), 'Dermatologia', 'Consulta médica')\n",
            "(22, 1032230, 310.0, None, 'Anonimo 8', 'ANALISTA INFORMACOES GERENCIAIS II', datetime.datetime(2019, 10, 4, 0, 0), 'Cardiologista', 'Exames')\n",
            "(23, 1032232, 310.0, None, 'Anonimo 8', 'ANALISTA INFORMACOES GERENCIAIS II', datetime.datetime(2019, 3, 4, 0, 0), 'Fisioterapia', 'Exames')\n",
            "(24, 1030893, 310.0, None, 'Anonimo 8', 'ANALISTA INFORMACOES GERENCIAIS II', datetime.datetime(2019, 3, 29, 0, 0), 'Ortopedia', 'Consulta médica')\n",
            "(25, 1027770, 310.45, None, 'Anonimo 8', 'ANALISTA INFORMACOES GERENCIAIS II', datetime.datetime(2019, 3, 21, 0, 0), 'Outras', 'Exames')\n",
            "(26, 1027769, 310.0, None, 'Anonimo 8', 'ANALISTA INFORMACOES GERENCIAIS II', datetime.datetime(2019, 3, 20, 0, 0), 'Ortopedia', 'Dor/Doença')\n",
            "(27, 1037656, 9361.0, None, 'Anonimo 9', 'TECNICO SEGUROS VG I', datetime.datetime(2019, 6, 18, 0, 0), 'Nutrólogo', 'Consulta médica')\n",
            "(29, 1033085, 9361.0, None, 'Anonimo 9', 'TECNICO SEGUROS VG I', datetime.datetime(2019, 4, 29, 0, 0), 'Gastroenterologia', 'Exames')\n",
            "(30, 1033427, 9361.0, None, 'Anonimo 9', 'TECNICO SEGUROS VG I', datetime.datetime(2019, 4, 23, 0, 0), 'Pediatria', 'Acompanhamento familiar')\n",
            "(32, 1030924, 9361.0, None, 'Anonimo 9', 'TECNICO SEGUROS VG I', datetime.datetime(2019, 3, 27, 0, 0), 'Outras', 'SUS - Pronto Socorro')\n",
            "(33, 1030923, 9361.0, None, 'Anonimo 9', 'TECNICO SEGUROS VG I', datetime.datetime(2019, 3, 25, 0, 0), 'Odontologia', 'Cirurgia Odontológica')\n",
            "(34, 1027197, 9373.0, None, 'Anonimo 10', 'ASSISTENTE OPERACIONAL I', datetime.datetime(2019, 2, 26, 0, 0), 'Gastroenterologia', 'Consulta médica')\n",
            "(35, 1037601, 9656.0, None, 'Anonimo 11', 'TECNICO FATURAMENTO II', datetime.datetime(2019, 11, 6, 0, 0), 'Odontologia', 'Consulta odontológica')\n",
            "(37, 1032256, 9966.0, None, 'Anonimo 12', 'TECNICO DE SEGUROS I', datetime.datetime(2019, 4, 15, 0, 0), 'Outras', 'Consulta médica')\n",
            "(39, 1036737, 9620.0, None, 'Anonimo 12', 'ASSISTENTE DE IMPLANTACAO', datetime.datetime(2019, 5, 27, 0, 0), 'Odontologia', 'Consulta odontológica')\n",
            "(41, 1036735, 9620.0, None, 'Anonimo 12', 'ASSISTENTE DE IMPLANTACAO', datetime.datetime(2019, 5, 20, 0, 0), 'Otorrinolaringologia', 'Consulta médica')\n",
            "(42, 1036734, 9620.0, None, 'Anonimo 12', 'ASSISTENTE DE IMPLANTACAO', datetime.datetime(2019, 5, 16, 0, 0), 'Odontologia', 'Consulta odontológica')\n",
            "(43, 1036738, 9620.0, None, 'Anonimo 12', 'ASSISTENTE DE IMPLANTACAO', datetime.datetime(2019, 7, 5, 0, 0), 'Odontologia', 'Cirurgia Odontológica')\n",
            "(44, 1032287, 9620.0, None, 'Anonimo 12', 'ASSISTENTE DE IMPLANTACAO', datetime.datetime(2019, 4, 15, 0, 0), 'Otorrinolaringologia', 'Dor/Doença')\n",
            "(45, 1032288, 9620.0, None, 'Anonimo 12', 'ASSISTENTE DE IMPLANTACAO', datetime.datetime(2019, 9, 4, 0, 0), 'Odontologia', 'Consulta médica')\n",
            "(46, 1030921, 9620.0, None, 'Anonimo 12', 'ASSISTENTE CONTROLE OPERACIONAL', datetime.datetime(2019, 3, 27, 0, 0), 'Exames', 'Exames')\n",
            "(47, 1027772, 9620.0, None, 'Anonimo 12', 'ASSISTENTE CONTROLE OPERACIONAL', datetime.datetime(2019, 3, 22, 0, 0), 'Odontologia', 'Consulta odontológica')\n",
            "(48, 1027773, 9620.0, None, 'Anonimo 12', 'ASSISTENTE CONTROLE OPERACIONAL', datetime.datetime(2019, 3, 19, 0, 0), 'Odontologia', 'Consulta odontológica')\n",
            "(49, 1027631, 9620.0, None, 'Anonimo 12', 'ASSISTENTE CONTROLE OPERACIONAL', datetime.datetime(2019, 3, 13, 0, 0), 'Cabeça e Pescoço', 'Consulta médica')\n",
            "(50, 1027587, 9620.0, None, 'Anonimo 12', 'ASSISTENTE CONTROLE OPERACIONAL', datetime.datetime(2019, 7, 3, 0, 0), 'Odontologia', 'Consulta odontológica')\n",
            "(51, 1032300, 9678.0, None, 'Anonimo 13', 'ANALISTA ESTUDOS E COTACAO II', datetime.datetime(2019, 4, 18, 0, 0), 'Exames', 'Exames')\n",
            "(52, 1032191, 9678.0, None, 'Anonimo 13', 'ANALISTA ESTUDOS E COTACAO II', datetime.datetime(2019, 10, 4, 0, 0), 'Ginecologia/Obstetricia', 'Consulta médica')\n",
            "(53, 1032240, 9678.0, None, 'Anonimo 13', 'ANALISTA ESTUDOS E COTACAO II', datetime.datetime(2019, 8, 4, 0, 0), 'Odontologia', 'Consulta odontológica')\n",
            "(55, 1027592, 9678.0, None, 'Anonimo 13', 'ANALISTA ESTUDOS E COTACAO II', datetime.datetime(2019, 11, 3, 0, 0), 'Radiologia', 'Exames')\n",
            "(56, 1027593, 9678.0, None, 'Anonimo 13', 'ANALISTA ESTUDOS E COTACAO II', datetime.datetime(2019, 8, 3, 0, 0), 'Radiologia', 'Exames')\n",
            "(59, 1036752, 9215.0, None, 'Anonimo 15', 'ANALISTA CONTABIL II', datetime.datetime(2019, 5, 15, 0, 0), 'Ginecologia/Obstetricia', 'Exames')\n",
            "(60, 1036781, 9215.0, None, 'Anonimo 15', 'ANALISTA CONTABIL II', datetime.datetime(2019, 6, 5, 0, 0), 'Exames', 'Exames')\n",
            "(61, 1033423, 9215.0, None, 'Anonimo 15', 'ANALISTA CONTABIL II', datetime.datetime(2019, 4, 30, 0, 0), 'Ginecologia/Obstetricia', 'Consulta médica')\n",
            "(62, 1033425, 9215.0, None, 'Anonimo 15', 'ANALISTA CONTABIL II', datetime.datetime(2019, 4, 17, 0, 0), 'Exames', 'Exames')\n",
            "(63, 1032179, 9215.0, None, 'Anonimo 15', 'ANALISTA CONTABIL II', datetime.datetime(2019, 10, 4, 0, 0), 'Obstetricia', 'Dor/Doença')\n",
            "(64, 1032180, 9215.0, None, 'Anonimo 15', 'ANALISTA CONTABIL II', datetime.datetime(2019, 8, 4, 0, 0), 'Obstetricia', 'Dor/Doença')\n",
            "(65, 1032181, 9215.0, None, 'Anonimo 15', 'ANALISTA CONTABIL II', datetime.datetime(2019, 1, 4, 0, 0), 'Obstetricia', 'Exame periódico')\n",
            "(67, 1030882, 9215.0, None, 'Anonimo 15', 'ANALISTA CONTABIL II', datetime.datetime(2019, 3, 20, 0, 0), 'Outras', 'Consulta médica')\n",
            "(70, 1037661, 9358.0, None, 'Anonimo 16', 'ANALISTA ESTUDOS E COTACAO I', datetime.datetime(2019, 4, 6, 0, 0), 'Dermatologia', 'Cirurgia')\n",
            "(71, 1036787, 9358.0, None, 'Anonimo 16', 'ANALISTA ESTUDOS E COTACAO I', datetime.datetime(2019, 10, 5, 0, 0), 'Otorrinolaringologia', 'Consulta médica')\n",
            "(72, 1027198, 9358.0, None, 'Anonimo 16', 'ANALISTA ESTUDOS E COTACAO I', datetime.datetime(2019, 3, 21, 0, 0), 'Gastroenterologia', 'Consulta médica')\n",
            "(73, 1027764, 9358.0, None, 'Anonimo 16', 'ANALISTA ESTUDOS E COTACAO I', datetime.datetime(2019, 3, 21, 0, 0), 'Ginecologia/Obstetricia', 'Consulta médica')\n",
            "(74, 1027777, 9375.0, None, 'Anonimo 17', 'TECNICO SEGUROS IV', datetime.datetime(2019, 3, 19, 0, 0), 'Fisioterapia', 'Acidente')\n",
            "(76, 1027612, 9375.0, None, 'Anonimo 17', 'TECNICO SEGUROS IV', datetime.datetime(2019, 11, 3, 0, 0), 'Clínica Médica', 'Dor/Doença')\n",
            "(78, 1036728, 132.0, None, 'Anonimo 19', 'ANALISTA ESTUDOS E COTACAO III', datetime.datetime(2019, 5, 28, 0, 0), 'Exames', 'Exames')\n",
            "(80, 1036751, 132.0, None, 'Anonimo 19', 'ANALISTA ESTUDOS E COTACAO III', datetime.datetime(2019, 5, 16, 0, 0), 'Exames', 'Tratamento')\n",
            "(82, 1027767, 132.0, None, 'Anonimo 19', 'ANALISTA ESTUDOS E COTACAO III', datetime.datetime(2019, 3, 25, 0, 0), 'Dermatologia', 'Consulta médica')\n",
            "(83, 1030876, 132.0, None, 'Anonimo 19', 'ANALISTA ESTUDOS E COTACAO III', datetime.datetime(2019, 3, 25, 0, 0), 'Dermatologia', 'Consulta médica')\n",
            "(84, 1027194, 132.0, None, 'Anonimo 19', 'ANALISTA ESTUDOS E COTACAO III', datetime.datetime(2019, 1, 3, 0, 0), 'Otorrinolaringologia', 'Consulta médica')\n",
            "(85, 1027646, 9831.0, None, 'Anonimo 20', 'TECNICO CADASTRO I', datetime.datetime(2019, 3, 19, 0, 0), 'Clínica Médica', 'Dor/Doença')\n",
            "(86, 1037659, 9524.0, None, 'Anonimo 21', 'ANALISTA SINISTROS I', datetime.datetime(2019, 4, 6, 0, 0), 'Oftalmologia', 'Acompanhamento familiar')\n",
            "(87, 1027619, 9524.0, None, 'Anonimo 21', 'ANALISTA SINISTROS I', datetime.datetime(2019, 3, 13, 0, 0), 'Pediatria', 'Acompanhamento familiar')\n",
            "(89, 1032392, 9916.0, None, 'Anonimo 22', 'ANALISTA ESTUDOS E COTACAO I', datetime.datetime(2019, 4, 23, 0, 0), 'Odontologia', 'Consulta odontológica')\n",
            "(90, 1027618, 9916.0, None, 'Anonimo 22', 'ANALISTA ESTUDOS E COTACAO I', datetime.datetime(2019, 12, 3, 0, 0), 'Odontologia', 'Consulta odontológica')\n"
          ]
        }
      ],
      "source": [
        "# Executando query\n",
        "sql = \"SELECT * FROM afastamentos\"\n",
        "cursor.execute(sql)\n",
        "# Fetch all the records\n",
        "result = cursor.fetchall()\n",
        "for i in result:\n",
        "    print(i)"
      ]
    },
    {
      "cell_type": "markdown",
      "source": [],
      "metadata": {
        "collapsed": false,
        "id": "xWE0aXhwFONv"
      }
    },
    {
      "cell_type": "markdown",
      "metadata": {
        "id": "SqsQRnS9FONw"
      },
      "source": [
        "## 8. Respondendo as Perguntas de Negócio"
      ]
    },
    {
      "cell_type": "markdown",
      "metadata": {
        "id": "4ZeXo8jGFONw"
      },
      "source": [
        "### 1. Qual departamento gastou mais em afastamentos?\n",
        "\n",
        "#### Resposta:\n",
        "\n",
        "Pôde-se observar, relacionando as informações de custo com os cargos onde houveram afastamentos, que o departamento contábil gastou mais em afastamentos:"
      ]
    },
    {
      "cell_type": "code",
      "execution_count": null,
      "metadata": {
        "id": "qPFatmwYFONx"
      },
      "outputs": [],
      "source": [
        "# Cria a consulta SQL\n",
        "query1 = '''SELECT cargo, sum(custo) as custo FROM afastamentos where cargo != \\'não informado\\' group by cargo'''"
      ]
    },
    {
      "cell_type": "code",
      "execution_count": null,
      "metadata": {
        "id": "2A-7iJ8_FONx"
      },
      "outputs": [],
      "source": [
        "# Resultado\n",
        "resposta1 = pd.read_sql_query(query1, conn)\n",
        "resposta1 = resposta1.sort_values(by = 'custo', ascending = False)\n",
        "resposta1['percentual'] = (resposta1['custo'] / resposta1['custo'].sum()) * 100"
      ]
    },
    {
      "cell_type": "code",
      "execution_count": null,
      "metadata": {
        "id": "wfhpyPivFONx",
        "outputId": "115f327b-1010-4566-cd74-efd61d7dfe2d"
      },
      "outputs": [
        {
          "data": {
            "text/html": [
              "<div>\n",
              "<style scoped>\n",
              "    .dataframe tbody tr th:only-of-type {\n",
              "        vertical-align: middle;\n",
              "    }\n",
              "\n",
              "    .dataframe tbody tr th {\n",
              "        vertical-align: top;\n",
              "    }\n",
              "\n",
              "    .dataframe thead th {\n",
              "        text-align: right;\n",
              "    }\n",
              "</style>\n",
              "<table border=\"1\" class=\"dataframe\">\n",
              "  <thead>\n",
              "    <tr style=\"text-align: right;\">\n",
              "      <th></th>\n",
              "      <th>cargo</th>\n",
              "      <th>custo</th>\n",
              "      <th>percentual</th>\n",
              "    </tr>\n",
              "  </thead>\n",
              "  <tbody>\n",
              "    <tr>\n",
              "      <th>0</th>\n",
              "      <td>ANALISTA CONTABIL II</td>\n",
              "      <td>73720.000000</td>\n",
              "      <td>16.323102</td>\n",
              "    </tr>\n",
              "    <tr>\n",
              "      <th>9</th>\n",
              "      <td>ASSISTENTE DE IMPLANTACAO</td>\n",
              "      <td>58296.400000</td>\n",
              "      <td>12.908004</td>\n",
              "    </tr>\n",
              "    <tr>\n",
              "      <th>8</th>\n",
              "      <td>ASSISTENTE CONTROLE OPERACIONAL</td>\n",
              "      <td>57770.000000</td>\n",
              "      <td>12.791449</td>\n",
              "    </tr>\n",
              "    <tr>\n",
              "      <th>2</th>\n",
              "      <td>ANALISTA ESTUDOS E COTACAO I</td>\n",
              "      <td>57264.000000</td>\n",
              "      <td>12.679410</td>\n",
              "    </tr>\n",
              "    <tr>\n",
              "      <th>3</th>\n",
              "      <td>ANALISTA ESTUDOS E COTACAO II</td>\n",
              "      <td>48390.000000</td>\n",
              "      <td>10.714527</td>\n",
              "    </tr>\n",
              "    <tr>\n",
              "      <th>17</th>\n",
              "      <td>TECNICO SEGUROS VG I</td>\n",
              "      <td>46805.000000</td>\n",
              "      <td>10.363575</td>\n",
              "    </tr>\n",
              "    <tr>\n",
              "      <th>6</th>\n",
              "      <td>ANALISTA RISCOS II</td>\n",
              "      <td>19518.000000</td>\n",
              "      <td>4.321681</td>\n",
              "    </tr>\n",
              "    <tr>\n",
              "      <th>7</th>\n",
              "      <td>ANALISTA SINISTROS I</td>\n",
              "      <td>19048.000000</td>\n",
              "      <td>4.217613</td>\n",
              "    </tr>\n",
              "    <tr>\n",
              "      <th>16</th>\n",
              "      <td>TECNICO SEGUROS IV</td>\n",
              "      <td>18750.000000</td>\n",
              "      <td>4.151630</td>\n",
              "    </tr>\n",
              "    <tr>\n",
              "      <th>13</th>\n",
              "      <td>TECNICO DE SEGUROS I</td>\n",
              "      <td>9966.000000</td>\n",
              "      <td>2.206674</td>\n",
              "    </tr>\n",
              "    <tr>\n",
              "      <th>12</th>\n",
              "      <td>TECNICO CADASTRO I</td>\n",
              "      <td>9831.000000</td>\n",
              "      <td>2.176783</td>\n",
              "    </tr>\n",
              "    <tr>\n",
              "      <th>14</th>\n",
              "      <td>TECNICO FATURAMENTO II</td>\n",
              "      <td>9656.000000</td>\n",
              "      <td>2.138034</td>\n",
              "    </tr>\n",
              "    <tr>\n",
              "      <th>10</th>\n",
              "      <td>ASSISTENTE OPERACIONAL I</td>\n",
              "      <td>9373.000000</td>\n",
              "      <td>2.075372</td>\n",
              "    </tr>\n",
              "    <tr>\n",
              "      <th>11</th>\n",
              "      <td>ASSISTENTE OPERACIONAL II</td>\n",
              "      <td>9236.000000</td>\n",
              "      <td>2.045038</td>\n",
              "    </tr>\n",
              "    <tr>\n",
              "      <th>5</th>\n",
              "      <td>ANALISTA INFORMACOES GERENCIAIS II</td>\n",
              "      <td>2913.450012</td>\n",
              "      <td>0.645097</td>\n",
              "    </tr>\n",
              "    <tr>\n",
              "      <th>4</th>\n",
              "      <td>ANALISTA ESTUDOS E COTACAO III</td>\n",
              "      <td>660.000000</td>\n",
              "      <td>0.146137</td>\n",
              "    </tr>\n",
              "    <tr>\n",
              "      <th>15</th>\n",
              "      <td>TECNICO SEGUROS I</td>\n",
              "      <td>310.000000</td>\n",
              "      <td>0.068640</td>\n",
              "    </tr>\n",
              "    <tr>\n",
              "      <th>1</th>\n",
              "      <td>ANALISTA CONTROLE OPERACIONAL I</td>\n",
              "      <td>123.000000</td>\n",
              "      <td>0.027235</td>\n",
              "    </tr>\n",
              "  </tbody>\n",
              "</table>\n",
              "</div>"
            ],
            "text/plain": [
              "                                 cargo         custo  percentual\n",
              "0                 ANALISTA CONTABIL II  73720.000000   16.323102\n",
              "9            ASSISTENTE DE IMPLANTACAO  58296.400000   12.908004\n",
              "8      ASSISTENTE CONTROLE OPERACIONAL  57770.000000   12.791449\n",
              "2         ANALISTA ESTUDOS E COTACAO I  57264.000000   12.679410\n",
              "3        ANALISTA ESTUDOS E COTACAO II  48390.000000   10.714527\n",
              "17                TECNICO SEGUROS VG I  46805.000000   10.363575\n",
              "6                   ANALISTA RISCOS II  19518.000000    4.321681\n",
              "7                 ANALISTA SINISTROS I  19048.000000    4.217613\n",
              "16                  TECNICO SEGUROS IV  18750.000000    4.151630\n",
              "13                TECNICO DE SEGUROS I   9966.000000    2.206674\n",
              "12                  TECNICO CADASTRO I   9831.000000    2.176783\n",
              "14              TECNICO FATURAMENTO II   9656.000000    2.138034\n",
              "10            ASSISTENTE OPERACIONAL I   9373.000000    2.075372\n",
              "11           ASSISTENTE OPERACIONAL II   9236.000000    2.045038\n",
              "5   ANALISTA INFORMACOES GERENCIAIS II   2913.450012    0.645097\n",
              "4       ANALISTA ESTUDOS E COTACAO III    660.000000    0.146137\n",
              "15                   TECNICO SEGUROS I    310.000000    0.068640\n",
              "1      ANALISTA CONTROLE OPERACIONAL I    123.000000    0.027235"
            ]
          },
          "metadata": {},
          "output_type": "display_data"
        }
      ],
      "source": [
        "# Visualizando o dataframe do resultado\n",
        "display(resposta1)"
      ]
    },
    {
      "cell_type": "code",
      "execution_count": null,
      "metadata": {
        "id": "6P-pBeTTFONy",
        "outputId": "0cfe886b-7bae-4a61-ed07-2086ec425e58"
      },
      "outputs": [
        {
          "data": {
            "image/png": "[encoded data removed]",
            "text/plain": [
              "<Figure size 1368x720 with 1 Axes>"
            ]
          },
          "metadata": {},
          "output_type": "display_data"
        }
      ],
      "source": [
        "# Visualizando o gráfico do resultado geral\n",
        "\n",
        "plt.figure(figsize = (19,10))\n",
        "g = sns.barplot(y = resposta1['cargo'], x = resposta1['custo'], orient = \"h\", palette='light:c_r')\n",
        "for i in range(0,18):\n",
        "    plt.text(resposta1['custo'][resposta1.index[i]]-1,\n",
        "             i + 0.30,\n",
        "             round(resposta1['custo'][resposta1.index[i]],2), fontsize = 13)\n",
        "\n",
        "plt.ylabel('Cargo', fontsize = 14)\n",
        "plt.xlabel('\\nGasto', fontsize = 14)\n",
        "plt.title('\\nGasto por Especialidade\\n', fontsize = 15)\n",
        "plt.show()"
      ]
    },
    {
      "cell_type": "code",
      "execution_count": null,
      "metadata": {
        "id": "4lRcUemeFONy"
      },
      "outputs": [],
      "source": [
        "# Realizando cálculo da porcentagem dos resultados\n",
        "others = {}\n",
        "others['custo'] = resposta1[resposta1['percentual'] < 5]['custo'].sum()\n",
        "others['percentual'] = resposta1[resposta1['percentual'] < 5]['percentual'].sum()\n",
        "others['cargo'] = 'others'\n",
        "\n",
        "resposta1 = resposta1[resposta1['percentual'] > 12.7]\n",
        "resposta1 = resposta1.append(others, ignore_index = True)\n",
        "resposta1 = resposta1.sort_values(by = 'custo', ascending = False)\n",
        "\n",
        "labels = [str(resposta1['cargo'][i])+' '+'['+str(round(resposta1['percentual'][i],2)) +'%'+']' for i in resposta1.index]"
      ]
    },
    {
      "cell_type": "code",
      "execution_count": null,
      "metadata": {
        "id": "Npf8EUeTFONz",
        "outputId": "59b390d7-2dc8-4a6d-c525-26bc1ba94efb"
      },
      "outputs": [
        {
          "data": {
            "image/png": "[encoded data removed]",
            "text/plain": [
              "<Figure size 576x288 with 1 Axes>"
            ]
          },
          "metadata": {},
          "output_type": "display_data"
        }
      ],
      "source": [
        "# Visualizando o gráfico do resultado do Top 3 em gasto\n",
        "cs = cm.Set3(np.arange(100))\n",
        "plt.figure(figsize = (8,4))\n",
        "plt.pie(resposta1['custo'], labeldistance = 1, radius = 3, colors = cs, wedgeprops = dict(width = 0.8))\n",
        "plt.legend(labels = labels, loc = 'center', prop = {'size':12})\n",
        "plt.title(\"Top 3 Departamentos com Maior Gasto\", loc = 'Center', fontdict = {'fontsize':15,'fontweight':20})\n",
        "plt.show()"
      ]
    },
    {
      "cell_type": "markdown",
      "metadata": {
        "id": "RkKQpKqzFONz"
      },
      "source": [
        "### 2. Qual especialidade teve o maior gasto?\n",
        "\n",
        "#### Resposta:\n",
        "\n",
        "Quando feita uma correlação entre as informações de custo com as especialidades, observou-se que especialidade Odontologia teve o maior gasto:"
      ]
    },
    {
      "cell_type": "code",
      "execution_count": null,
      "metadata": {
        "id": "iBZZ2TdaFONz"
      },
      "outputs": [],
      "source": [
        "# Cria a consulta SQL\n",
        "query2 = '''SELECT especialidade, sum(custo) as custo FROM afastamentos  where especialidade != \\'não informado\\' group by especialidade'''"
      ]
    },
    {
      "cell_type": "code",
      "execution_count": null,
      "metadata": {
        "id": "ZkHocECJFON1"
      },
      "outputs": [],
      "source": [
        "# Resultado\n",
        "resposta2 = pd.read_sql_query(query2, conn)\n",
        "resposta2 = resposta2.sort_values(by = 'custo', ascending = False)\n",
        "resposta2['percentual'] = (resposta2['custo'] / resposta2['custo'].sum()) * 100"
      ]
    },
    {
      "cell_type": "code",
      "execution_count": null,
      "metadata": {
        "id": "XO9X_T-7FON1",
        "outputId": "ab15993b-d2aa-468f-bb9f-a5bb197b2e4a"
      },
      "outputs": [
        {
          "data": {
            "text/html": [
              "<div>\n",
              "<style scoped>\n",
              "    .dataframe tbody tr th:only-of-type {\n",
              "        vertical-align: middle;\n",
              "    }\n",
              "\n",
              "    .dataframe tbody tr th {\n",
              "        vertical-align: top;\n",
              "    }\n",
              "\n",
              "    .dataframe thead th {\n",
              "        text-align: right;\n",
              "    }\n",
              "</style>\n",
              "<table border=\"1\" class=\"dataframe\">\n",
              "  <thead>\n",
              "    <tr style=\"text-align: right;\">\n",
              "      <th></th>\n",
              "      <th>especialidade</th>\n",
              "      <th>custo</th>\n",
              "      <th>percentual</th>\n",
              "    </tr>\n",
              "  </thead>\n",
              "  <tbody>\n",
              "    <tr>\n",
              "      <th>12</th>\n",
              "      <td>Odontologia</td>\n",
              "      <td>116072.000000</td>\n",
              "      <td>25.700693</td>\n",
              "    </tr>\n",
              "    <tr>\n",
              "      <th>4</th>\n",
              "      <td>Exames</td>\n",
              "      <td>38012.400000</td>\n",
              "      <td>8.416716</td>\n",
              "    </tr>\n",
              "    <tr>\n",
              "      <th>7</th>\n",
              "      <td>Ginecologia/Obstetricia</td>\n",
              "      <td>37466.000000</td>\n",
              "      <td>8.295732</td>\n",
              "    </tr>\n",
              "    <tr>\n",
              "      <th>16</th>\n",
              "      <td>Outras</td>\n",
              "      <td>28852.450012</td>\n",
              "      <td>6.388517</td>\n",
              "    </tr>\n",
              "    <tr>\n",
              "      <th>17</th>\n",
              "      <td>Pediatria</td>\n",
              "      <td>28760.000000</td>\n",
              "      <td>6.368047</td>\n",
              "    </tr>\n",
              "    <tr>\n",
              "      <th>15</th>\n",
              "      <td>Otorrinolaringologia</td>\n",
              "      <td>28730.000000</td>\n",
              "      <td>6.361404</td>\n",
              "    </tr>\n",
              "    <tr>\n",
              "      <th>6</th>\n",
              "      <td>Gastroenterologia</td>\n",
              "      <td>28092.000000</td>\n",
              "      <td>6.220138</td>\n",
              "    </tr>\n",
              "    <tr>\n",
              "      <th>11</th>\n",
              "      <td>Obstetricia</td>\n",
              "      <td>27645.000000</td>\n",
              "      <td>6.121163</td>\n",
              "    </tr>\n",
              "    <tr>\n",
              "      <th>14</th>\n",
              "      <td>Ortopedia</td>\n",
              "      <td>20138.000000</td>\n",
              "      <td>4.458961</td>\n",
              "    </tr>\n",
              "    <tr>\n",
              "      <th>18</th>\n",
              "      <td>Radiologia</td>\n",
              "      <td>19356.000000</td>\n",
              "      <td>4.285811</td>\n",
              "    </tr>\n",
              "    <tr>\n",
              "      <th>2</th>\n",
              "      <td>Clínica Médica</td>\n",
              "      <td>19206.000000</td>\n",
              "      <td>4.252598</td>\n",
              "    </tr>\n",
              "    <tr>\n",
              "      <th>3</th>\n",
              "      <td>Dermatologia</td>\n",
              "      <td>9868.000000</td>\n",
              "      <td>2.184975</td>\n",
              "    </tr>\n",
              "    <tr>\n",
              "      <th>5</th>\n",
              "      <td>Fisioterapia</td>\n",
              "      <td>9685.000000</td>\n",
              "      <td>2.144455</td>\n",
              "    </tr>\n",
              "    <tr>\n",
              "      <th>0</th>\n",
              "      <td>Cabeça e Pescoço</td>\n",
              "      <td>9620.000000</td>\n",
              "      <td>2.130063</td>\n",
              "    </tr>\n",
              "    <tr>\n",
              "      <th>13</th>\n",
              "      <td>Oftalmologia</td>\n",
              "      <td>9524.000000</td>\n",
              "      <td>2.108807</td>\n",
              "    </tr>\n",
              "    <tr>\n",
              "      <th>10</th>\n",
              "      <td>Nutrólogo</td>\n",
              "      <td>9361.000000</td>\n",
              "      <td>2.072715</td>\n",
              "    </tr>\n",
              "    <tr>\n",
              "      <th>8</th>\n",
              "      <td>Neurologia</td>\n",
              "      <td>9236.000000</td>\n",
              "      <td>2.045038</td>\n",
              "    </tr>\n",
              "    <tr>\n",
              "      <th>1</th>\n",
              "      <td>Cardiologista</td>\n",
              "      <td>1860.000000</td>\n",
              "      <td>0.411842</td>\n",
              "    </tr>\n",
              "    <tr>\n",
              "      <th>9</th>\n",
              "      <td>Neurologia pediátrica</td>\n",
              "      <td>146.000000</td>\n",
              "      <td>0.032327</td>\n",
              "    </tr>\n",
              "  </tbody>\n",
              "</table>\n",
              "</div>"
            ],
            "text/plain": [
              "              especialidade          custo  percentual\n",
              "12              Odontologia  116072.000000   25.700693\n",
              "4                    Exames   38012.400000    8.416716\n",
              "7   Ginecologia/Obstetricia   37466.000000    8.295732\n",
              "16                   Outras   28852.450012    6.388517\n",
              "17                Pediatria   28760.000000    6.368047\n",
              "15     Otorrinolaringologia   28730.000000    6.361404\n",
              "6         Gastroenterologia   28092.000000    6.220138\n",
              "11              Obstetricia   27645.000000    6.121163\n",
              "14                Ortopedia   20138.000000    4.458961\n",
              "18               Radiologia   19356.000000    4.285811\n",
              "2            Clínica Médica   19206.000000    4.252598\n",
              "3              Dermatologia    9868.000000    2.184975\n",
              "5              Fisioterapia    9685.000000    2.144455\n",
              "0          Cabeça e Pescoço    9620.000000    2.130063\n",
              "13             Oftalmologia    9524.000000    2.108807\n",
              "10                Nutrólogo    9361.000000    2.072715\n",
              "8                Neurologia    9236.000000    2.045038\n",
              "1             Cardiologista    1860.000000    0.411842\n",
              "9     Neurologia pediátrica     146.000000    0.032327"
            ]
          },
          "metadata": {},
          "output_type": "display_data"
        }
      ],
      "source": [
        "# Visualizando o dataframe do resultado\n",
        "display(resposta2)"
      ]
    },
    {
      "cell_type": "code",
      "execution_count": null,
      "metadata": {
        "id": "I2aAeB5UFON2",
        "outputId": "8e1cda7f-8b88-4fec-b376-e96c62db0570"
      },
      "outputs": [
        {
          "data": {
            "image/png": "[encoded data removed]",
            "text/plain": [
              "<Figure size 1440x720 with 1 Axes>"
            ]
          },
          "metadata": {},
          "output_type": "display_data"
        }
      ],
      "source": [
        "# Visualizando o gráfico do resultado geral\n",
        "plt.figure(figsize = (20,10))\n",
        "g = sns.barplot(y = resposta2['especialidade'], x = resposta2['custo'], orient = \"h\", palette='light:g_r')\n",
        "for i in range(0,18):\n",
        "    plt.text(resposta2['custo'][resposta2.index[i]]-1,\n",
        "             i + 0.15,\n",
        "             round(resposta2['custo'][resposta2.index[i]],1), fontsize = 13)\n",
        "\n",
        "plt.ylabel('Especialidade',fontsize = 14)\n",
        "plt.xlabel('\\nGasto', fontsize = 14)\n",
        "plt.title('\\nGasto por Especialidade\\n', fontsize = 15)\n",
        "plt.show()"
      ]
    },
    {
      "cell_type": "code",
      "execution_count": null,
      "metadata": {
        "id": "zFwtCCPfFON2"
      },
      "outputs": [],
      "source": [
        "# Realizando cálculo da porcentagem dos resultados\n",
        "others = {}\n",
        "others['custo'] = resposta2[resposta2['percentual'] < 5]['custo'].sum()\n",
        "others['percentual'] = resposta2[resposta2['percentual'] < 5]['percentual'].sum()\n",
        "others['especialidade'] = 'others'\n",
        "\n",
        "resposta2 = resposta2[resposta2['percentual'] > 8]\n",
        "resposta2 = resposta2.append(others, ignore_index = True)\n",
        "resposta2 = resposta2.sort_values(by = 'custo', ascending = False)\n",
        "\n",
        "labels = [str(resposta2['especialidade'][i])+' '+'['+str(round(resposta2['percentual'][i],2)) +'%'+']' for i in resposta2.index]"
      ]
    },
    {
      "cell_type": "code",
      "execution_count": null,
      "metadata": {
        "id": "VStDghKzFON3",
        "outputId": "d4ba72a3-f497-4dc5-8c88-60dfcb96987b"
      },
      "outputs": [
        {
          "data": {
            "image/png": "[encoded data removed]",
            "text/plain": [
              "<Figure size 576x288 with 1 Axes>"
            ]
          },
          "metadata": {},
          "output_type": "display_data"
        }
      ],
      "source": [
        "# Plot\n",
        "cs = cm.Set3(np.arange(100))\n",
        "plt.figure(figsize = (8,4))\n",
        "plt.pie(resposta2['custo'], labeldistance = 1, radius = 3, colors = cs, wedgeprops = dict(width = 0.8))\n",
        "plt.legend(labels = labels, loc = 'center', prop = {'size':12})\n",
        "plt.title(\"Top 3 Especialidades com Maior Gasto\", loc = 'Center', fontdict = {'fontsize':15,'fontweight':20})\n",
        "plt.show()"
      ]
    },
    {
      "cell_type": "markdown",
      "metadata": {
        "id": "o0M61R3MFON5"
      },
      "source": [
        "### 3. Qual foi o principal motivo de afastamento?\n",
        "\n",
        "#### Resposta:\n",
        "\n",
        "Analisando os motivos de afastamento, Consulta médica mostrou-se como o principal motivo de afastamento."
      ]
    },
    {
      "cell_type": "code",
      "execution_count": null,
      "metadata": {
        "id": "9CnIupfwFON5"
      },
      "outputs": [],
      "source": [
        "# Criando a consulta SQL\n",
        "query3 = '''SELECT motivo, COUNT(*) AS count FROM afastamentos where motivo != \\'não informado\\' GROUP BY motivo'''"
      ]
    },
    {
      "cell_type": "code",
      "execution_count": null,
      "metadata": {
        "id": "YBkgzRCPFON8"
      },
      "outputs": [],
      "source": [
        "# Extraindo o resultado\n",
        "resposta3 = pd.read_sql_query(query3, conn)\n",
        "resposta3 = resposta3.sort_values(by = 'count', ascending = False)\n",
        "resposta3['percentual'] = (resposta3['count'] / resposta3['count'].sum()) * 100"
      ]
    },
    {
      "cell_type": "code",
      "execution_count": null,
      "metadata": {
        "id": "ccJpDIybFON9",
        "outputId": "b4332ed6-a833-436e-d517-2cfc5609836a"
      },
      "outputs": [
        {
          "data": {
            "text/html": [
              "<div>\n",
              "<style scoped>\n",
              "    .dataframe tbody tr th:only-of-type {\n",
              "        vertical-align: middle;\n",
              "    }\n",
              "\n",
              "    .dataframe tbody tr th {\n",
              "        vertical-align: top;\n",
              "    }\n",
              "\n",
              "    .dataframe thead th {\n",
              "        text-align: right;\n",
              "    }\n",
              "</style>\n",
              "<table border=\"1\" class=\"dataframe\">\n",
              "  <thead>\n",
              "    <tr style=\"text-align: right;\">\n",
              "      <th></th>\n",
              "      <th>motivo</th>\n",
              "      <th>count</th>\n",
              "      <th>percentual</th>\n",
              "    </tr>\n",
              "  </thead>\n",
              "  <tbody>\n",
              "    <tr>\n",
              "      <th>4</th>\n",
              "      <td>Consulta médica</td>\n",
              "      <td>24</td>\n",
              "      <td>34.782609</td>\n",
              "    </tr>\n",
              "    <tr>\n",
              "      <th>8</th>\n",
              "      <td>Exames</td>\n",
              "      <td>15</td>\n",
              "      <td>21.739130</td>\n",
              "    </tr>\n",
              "    <tr>\n",
              "      <th>5</th>\n",
              "      <td>Consulta odontológica</td>\n",
              "      <td>10</td>\n",
              "      <td>14.492754</td>\n",
              "    </tr>\n",
              "    <tr>\n",
              "      <th>1</th>\n",
              "      <td>Acompanhamento familiar</td>\n",
              "      <td>7</td>\n",
              "      <td>10.144928</td>\n",
              "    </tr>\n",
              "    <tr>\n",
              "      <th>6</th>\n",
              "      <td>Dor/Doença</td>\n",
              "      <td>6</td>\n",
              "      <td>8.695652</td>\n",
              "    </tr>\n",
              "    <tr>\n",
              "      <th>3</th>\n",
              "      <td>Cirurgia Odontológica</td>\n",
              "      <td>2</td>\n",
              "      <td>2.898551</td>\n",
              "    </tr>\n",
              "    <tr>\n",
              "      <th>0</th>\n",
              "      <td>Acidente</td>\n",
              "      <td>1</td>\n",
              "      <td>1.449275</td>\n",
              "    </tr>\n",
              "    <tr>\n",
              "      <th>2</th>\n",
              "      <td>Cirurgia</td>\n",
              "      <td>1</td>\n",
              "      <td>1.449275</td>\n",
              "    </tr>\n",
              "    <tr>\n",
              "      <th>7</th>\n",
              "      <td>Exame periódico</td>\n",
              "      <td>1</td>\n",
              "      <td>1.449275</td>\n",
              "    </tr>\n",
              "    <tr>\n",
              "      <th>9</th>\n",
              "      <td>SUS - Pronto Socorro</td>\n",
              "      <td>1</td>\n",
              "      <td>1.449275</td>\n",
              "    </tr>\n",
              "    <tr>\n",
              "      <th>10</th>\n",
              "      <td>Tratamento</td>\n",
              "      <td>1</td>\n",
              "      <td>1.449275</td>\n",
              "    </tr>\n",
              "  </tbody>\n",
              "</table>\n",
              "</div>"
            ],
            "text/plain": [
              "                     motivo  count  percentual\n",
              "4           Consulta médica     24   34.782609\n",
              "8                    Exames     15   21.739130\n",
              "5     Consulta odontológica     10   14.492754\n",
              "1   Acompanhamento familiar      7   10.144928\n",
              "6                Dor/Doença      6    8.695652\n",
              "3     Cirurgia Odontológica      2    2.898551\n",
              "0                  Acidente      1    1.449275\n",
              "2                  Cirurgia      1    1.449275\n",
              "7           Exame periódico      1    1.449275\n",
              "9      SUS - Pronto Socorro      1    1.449275\n",
              "10               Tratamento      1    1.449275"
            ]
          },
          "metadata": {},
          "output_type": "display_data"
        }
      ],
      "source": [
        "# Visualizando o dataframe do resultado\n",
        "display(resposta3)"
      ]
    },
    {
      "cell_type": "code",
      "execution_count": null,
      "metadata": {
        "id": "58cdFsCEFON9",
        "outputId": "fef4cb5b-f5cc-43f3-a9b0-ba2b403184a8"
      },
      "outputs": [
        {
          "data": {
            "image/png": "[encoded data removed]",
            "text/plain": [
              "<Figure size 720x360 with 1 Axes>"
            ]
          },
          "metadata": {},
          "output_type": "display_data"
        }
      ],
      "source": [
        "# Visualizando o gráfico do resultado\n",
        "\n",
        "sns.set_style(\"white\")\n",
        "motivo_order = dados['Motivo'].value_counts().index\n",
        "g = sns.catplot(x=\"Motivo\", data=dados, kind=\"count\", palette=\"BuPu_r\", height=5, aspect=2, order=motivo_order)\n",
        "g.ax.xaxis.set_label_text(\"Motivo\")\n",
        "g.ax.yaxis.set_label_text(\"Total\")\n",
        "g.ax.set_title(\"Motivo de afastamentos\")\n",
        "plt.xticks(rotation=90)\n",
        "\n",
        "for p in g.ax.patches:\n",
        "    g.ax.annotate((p.get_height()), (p.get_x()+0.28, p.get_height()+0.90))"
      ]
    },
    {
      "cell_type": "code",
      "execution_count": null,
      "metadata": {
        "id": "PpP11aH4FON-"
      },
      "outputs": [],
      "source": [
        "# Fechando a conexão MySQL\n",
        "conn.close()"
      ]
    }
  ],
  "metadata": {
    "kernelspec": {
      "display_name": "Python 3",
      "language": "python",
      "name": "python3"
    },
    "language_info": {
      "codemirror_mode": {
        "name": "ipython",
        "version": 3
      },
      "file_extension": ".py",
      "mimetype": "text/x-python",
      "name": "python",
      "nbconvert_exporter": "python",
      "pygments_lexer": "ipython3",
      "version": "3.8.3"
    },
    "colab": {
      "provenance": []
    }
  },
  "nbformat": 4,
  "nbformat_minor": 0
}