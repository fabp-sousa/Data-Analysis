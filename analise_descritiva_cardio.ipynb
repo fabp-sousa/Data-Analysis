{
  "nbformat": 4,
  "nbformat_minor": 0,
  "metadata": {
    "colab": {
      "provenance": [],
      "toc_visible": true
    },
    "kernelspec": {
      "name": "python3",
      "display_name": "Python 3"
    },
    "language_info": {
      "name": "python"
    }
  },
  "cells": [
    {
      "cell_type": "markdown",
      "metadata": {
        "id": "P3NN2ysQKRSK"
      },
      "source": [
        "##carregando bibliotecas"
      ]
    },
    {
      "cell_type": "code",
      "metadata": {
        "id": "rDBiqlgvX7I_"
      },
      "source": [
        "import pandas as pd\n",
        "import numpy as np\n",
        "import seaborn as sns\n",
        "import re\n",
        "import matplotlib.pyplot as plt\n",
        "import scipy.stats as scs"
      ],
      "execution_count": null,
      "outputs": []
    },
    {
      "cell_type": "code",
      "metadata": {
        "colab": {
          "base_uri": "https://localhost:8080/",
          "height": 205
        },
        "id": "VR7lPQ0QYG_L",
        "outputId": "9c425bf1-4197-4797-8017-390827b2e6ae"
      },
      "source": [
        "data = pd.read_csv('/content/cardio_train.csv',sep = ';')\n",
        "data.head()\n"
      ],
      "execution_count": null,
      "outputs": [
        {
          "output_type": "execute_result",
          "data": {
            "text/html": [
              "<div>\n",
              "<style scoped>\n",
              "    .dataframe tbody tr th:only-of-type {\n",
              "        vertical-align: middle;\n",
              "    }\n",
              "\n",
              "    .dataframe tbody tr th {\n",
              "        vertical-align: top;\n",
              "    }\n",
              "\n",
              "    .dataframe thead th {\n",
              "        text-align: right;\n",
              "    }\n",
              "</style>\n",
              "<table border=\"1\" class=\"dataframe\">\n",
              "  <thead>\n",
              "    <tr style=\"text-align: right;\">\n",
              "      <th></th>\n",
              "      <th>id</th>\n",
              "      <th>age</th>\n",
              "      <th>gender</th>\n",
              "      <th>height</th>\n",
              "      <th>weight</th>\n",
              "      <th>ap_hi</th>\n",
              "      <th>ap_lo</th>\n",
              "      <th>cholesterol</th>\n",
              "      <th>gluc</th>\n",
              "      <th>smoke</th>\n",
              "      <th>alco</th>\n",
              "      <th>active</th>\n",
              "      <th>cardio</th>\n",
              "    </tr>\n",
              "  </thead>\n",
              "  <tbody>\n",
              "    <tr>\n",
              "      <th>0</th>\n",
              "      <td>0</td>\n",
              "      <td>18393</td>\n",
              "      <td>2</td>\n",
              "      <td>168</td>\n",
              "      <td>62.0</td>\n",
              "      <td>110</td>\n",
              "      <td>80</td>\n",
              "      <td>1</td>\n",
              "      <td>1</td>\n",
              "      <td>0</td>\n",
              "      <td>0</td>\n",
              "      <td>1</td>\n",
              "      <td>0</td>\n",
              "    </tr>\n",
              "    <tr>\n",
              "      <th>1</th>\n",
              "      <td>1</td>\n",
              "      <td>20228</td>\n",
              "      <td>1</td>\n",
              "      <td>156</td>\n",
              "      <td>85.0</td>\n",
              "      <td>140</td>\n",
              "      <td>90</td>\n",
              "      <td>3</td>\n",
              "      <td>1</td>\n",
              "      <td>0</td>\n",
              "      <td>0</td>\n",
              "      <td>1</td>\n",
              "      <td>1</td>\n",
              "    </tr>\n",
              "    <tr>\n",
              "      <th>2</th>\n",
              "      <td>2</td>\n",
              "      <td>18857</td>\n",
              "      <td>1</td>\n",
              "      <td>165</td>\n",
              "      <td>64.0</td>\n",
              "      <td>130</td>\n",
              "      <td>70</td>\n",
              "      <td>3</td>\n",
              "      <td>1</td>\n",
              "      <td>0</td>\n",
              "      <td>0</td>\n",
              "      <td>0</td>\n",
              "      <td>1</td>\n",
              "    </tr>\n",
              "    <tr>\n",
              "      <th>3</th>\n",
              "      <td>3</td>\n",
              "      <td>17623</td>\n",
              "      <td>2</td>\n",
              "      <td>169</td>\n",
              "      <td>82.0</td>\n",
              "      <td>150</td>\n",
              "      <td>100</td>\n",
              "      <td>1</td>\n",
              "      <td>1</td>\n",
              "      <td>0</td>\n",
              "      <td>0</td>\n",
              "      <td>1</td>\n",
              "      <td>1</td>\n",
              "    </tr>\n",
              "    <tr>\n",
              "      <th>4</th>\n",
              "      <td>4</td>\n",
              "      <td>17474</td>\n",
              "      <td>1</td>\n",
              "      <td>156</td>\n",
              "      <td>56.0</td>\n",
              "      <td>100</td>\n",
              "      <td>60</td>\n",
              "      <td>1</td>\n",
              "      <td>1</td>\n",
              "      <td>0</td>\n",
              "      <td>0</td>\n",
              "      <td>0</td>\n",
              "      <td>0</td>\n",
              "    </tr>\n",
              "  </tbody>\n",
              "</table>\n",
              "</div>"
            ],
            "text/plain": [
              "   id    age  gender  height  weight  ...  gluc  smoke  alco  active  cardio\n",
              "0   0  18393       2     168    62.0  ...     1      0     0       1       0\n",
              "1   1  20228       1     156    85.0  ...     1      0     0       1       1\n",
              "2   2  18857       1     165    64.0  ...     1      0     0       0       1\n",
              "3   3  17623       2     169    82.0  ...     1      0     0       1       1\n",
              "4   4  17474       1     156    56.0  ...     1      0     0       0       0\n",
              "\n",
              "[5 rows x 13 columns]"
            ]
          },
          "metadata": {
            "tags": []
          },
          "execution_count": 31
        }
      ]
    },
    {
      "cell_type": "markdown",
      "metadata": {
        "id": "iacEcojxUv2E"
      },
      "source": [
        "##fazendo manipulações"
      ]
    },
    {
      "cell_type": "code",
      "metadata": {
        "colab": {
          "base_uri": "https://localhost:8080/",
          "height": 362
        },
        "id": "HwMuM6lbYlW9",
        "outputId": "0359f7fc-0b25-42f7-98fc-eb03012d75df"
      },
      "source": [
        "#alterando as idades de dias para anos aproximadamente, para melhorar a vizualização\n",
        "idade = data['age']\n",
        "anos = (idade/365).round()\n",
        "anos = anos.astype('int64')\n",
        "data['age'] = anos\n",
        "data.head(10)"
      ],
      "execution_count": null,
      "outputs": [
        {
          "output_type": "execute_result",
          "data": {
            "text/html": [
              "<div>\n",
              "<style scoped>\n",
              "    .dataframe tbody tr th:only-of-type {\n",
              "        vertical-align: middle;\n",
              "    }\n",
              "\n",
              "    .dataframe tbody tr th {\n",
              "        vertical-align: top;\n",
              "    }\n",
              "\n",
              "    .dataframe thead th {\n",
              "        text-align: right;\n",
              "    }\n",
              "</style>\n",
              "<table border=\"1\" class=\"dataframe\">\n",
              "  <thead>\n",
              "    <tr style=\"text-align: right;\">\n",
              "      <th></th>\n",
              "      <th>id</th>\n",
              "      <th>age</th>\n",
              "      <th>gender</th>\n",
              "      <th>height</th>\n",
              "      <th>weight</th>\n",
              "      <th>ap_hi</th>\n",
              "      <th>ap_lo</th>\n",
              "      <th>cholesterol</th>\n",
              "      <th>gluc</th>\n",
              "      <th>smoke</th>\n",
              "      <th>alco</th>\n",
              "      <th>active</th>\n",
              "      <th>cardio</th>\n",
              "    </tr>\n",
              "  </thead>\n",
              "  <tbody>\n",
              "    <tr>\n",
              "      <th>0</th>\n",
              "      <td>0</td>\n",
              "      <td>50</td>\n",
              "      <td>2</td>\n",
              "      <td>168</td>\n",
              "      <td>62.0</td>\n",
              "      <td>110</td>\n",
              "      <td>80</td>\n",
              "      <td>1</td>\n",
              "      <td>1</td>\n",
              "      <td>0</td>\n",
              "      <td>0</td>\n",
              "      <td>1</td>\n",
              "      <td>0</td>\n",
              "    </tr>\n",
              "    <tr>\n",
              "      <th>1</th>\n",
              "      <td>1</td>\n",
              "      <td>55</td>\n",
              "      <td>1</td>\n",
              "      <td>156</td>\n",
              "      <td>85.0</td>\n",
              "      <td>140</td>\n",
              "      <td>90</td>\n",
              "      <td>3</td>\n",
              "      <td>1</td>\n",
              "      <td>0</td>\n",
              "      <td>0</td>\n",
              "      <td>1</td>\n",
              "      <td>1</td>\n",
              "    </tr>\n",
              "    <tr>\n",
              "      <th>2</th>\n",
              "      <td>2</td>\n",
              "      <td>52</td>\n",
              "      <td>1</td>\n",
              "      <td>165</td>\n",
              "      <td>64.0</td>\n",
              "      <td>130</td>\n",
              "      <td>70</td>\n",
              "      <td>3</td>\n",
              "      <td>1</td>\n",
              "      <td>0</td>\n",
              "      <td>0</td>\n",
              "      <td>0</td>\n",
              "      <td>1</td>\n",
              "    </tr>\n",
              "    <tr>\n",
              "      <th>3</th>\n",
              "      <td>3</td>\n",
              "      <td>48</td>\n",
              "      <td>2</td>\n",
              "      <td>169</td>\n",
              "      <td>82.0</td>\n",
              "      <td>150</td>\n",
              "      <td>100</td>\n",
              "      <td>1</td>\n",
              "      <td>1</td>\n",
              "      <td>0</td>\n",
              "      <td>0</td>\n",
              "      <td>1</td>\n",
              "      <td>1</td>\n",
              "    </tr>\n",
              "    <tr>\n",
              "      <th>4</th>\n",
              "      <td>4</td>\n",
              "      <td>48</td>\n",
              "      <td>1</td>\n",
              "      <td>156</td>\n",
              "      <td>56.0</td>\n",
              "      <td>100</td>\n",
              "      <td>60</td>\n",
              "      <td>1</td>\n",
              "      <td>1</td>\n",
              "      <td>0</td>\n",
              "      <td>0</td>\n",
              "      <td>0</td>\n",
              "      <td>0</td>\n",
              "    </tr>\n",
              "    <tr>\n",
              "      <th>5</th>\n",
              "      <td>8</td>\n",
              "      <td>60</td>\n",
              "      <td>1</td>\n",
              "      <td>151</td>\n",
              "      <td>67.0</td>\n",
              "      <td>120</td>\n",
              "      <td>80</td>\n",
              "      <td>2</td>\n",
              "      <td>2</td>\n",
              "      <td>0</td>\n",
              "      <td>0</td>\n",
              "      <td>0</td>\n",
              "      <td>0</td>\n",
              "    </tr>\n",
              "    <tr>\n",
              "      <th>6</th>\n",
              "      <td>9</td>\n",
              "      <td>61</td>\n",
              "      <td>1</td>\n",
              "      <td>157</td>\n",
              "      <td>93.0</td>\n",
              "      <td>130</td>\n",
              "      <td>80</td>\n",
              "      <td>3</td>\n",
              "      <td>1</td>\n",
              "      <td>0</td>\n",
              "      <td>0</td>\n",
              "      <td>1</td>\n",
              "      <td>0</td>\n",
              "    </tr>\n",
              "    <tr>\n",
              "      <th>7</th>\n",
              "      <td>12</td>\n",
              "      <td>62</td>\n",
              "      <td>2</td>\n",
              "      <td>178</td>\n",
              "      <td>95.0</td>\n",
              "      <td>130</td>\n",
              "      <td>90</td>\n",
              "      <td>3</td>\n",
              "      <td>3</td>\n",
              "      <td>0</td>\n",
              "      <td>0</td>\n",
              "      <td>1</td>\n",
              "      <td>1</td>\n",
              "    </tr>\n",
              "    <tr>\n",
              "      <th>8</th>\n",
              "      <td>13</td>\n",
              "      <td>48</td>\n",
              "      <td>1</td>\n",
              "      <td>158</td>\n",
              "      <td>71.0</td>\n",
              "      <td>110</td>\n",
              "      <td>70</td>\n",
              "      <td>1</td>\n",
              "      <td>1</td>\n",
              "      <td>0</td>\n",
              "      <td>0</td>\n",
              "      <td>1</td>\n",
              "      <td>0</td>\n",
              "    </tr>\n",
              "    <tr>\n",
              "      <th>9</th>\n",
              "      <td>14</td>\n",
              "      <td>54</td>\n",
              "      <td>1</td>\n",
              "      <td>164</td>\n",
              "      <td>68.0</td>\n",
              "      <td>110</td>\n",
              "      <td>60</td>\n",
              "      <td>1</td>\n",
              "      <td>1</td>\n",
              "      <td>0</td>\n",
              "      <td>0</td>\n",
              "      <td>0</td>\n",
              "      <td>0</td>\n",
              "    </tr>\n",
              "  </tbody>\n",
              "</table>\n",
              "</div>"
            ],
            "text/plain": [
              "   id  age  gender  height  weight  ...  gluc  smoke  alco  active  cardio\n",
              "0   0   50       2     168    62.0  ...     1      0     0       1       0\n",
              "1   1   55       1     156    85.0  ...     1      0     0       1       1\n",
              "2   2   52       1     165    64.0  ...     1      0     0       0       1\n",
              "3   3   48       2     169    82.0  ...     1      0     0       1       1\n",
              "4   4   48       1     156    56.0  ...     1      0     0       0       0\n",
              "5   8   60       1     151    67.0  ...     2      0     0       0       0\n",
              "6   9   61       1     157    93.0  ...     1      0     0       1       0\n",
              "7  12   62       2     178    95.0  ...     3      0     0       1       1\n",
              "8  13   48       1     158    71.0  ...     1      0     0       1       0\n",
              "9  14   54       1     164    68.0  ...     1      0     0       0       0\n",
              "\n",
              "[10 rows x 13 columns]"
            ]
          },
          "metadata": {
            "tags": []
          },
          "execution_count": 32
        }
      ]
    },
    {
      "cell_type": "code",
      "metadata": {
        "colab": {
          "base_uri": "https://localhost:8080/"
        },
        "id": "1va2bZNMY6GA",
        "outputId": "909a72cb-b236-41bb-b682-996267957085"
      },
      "source": [
        "#mudando o tipo da respectivas variaveis para str\n",
        "data[['gender','cholesterol',\t'gluc',\t'smoke',\t'alco',\t'active','cardio'\t]] = data[['gender','cholesterol',\t'gluc',\t'smoke',\t'alco',\t'active','cardio'\t]].astype(str)\n",
        "data.info()"
      ],
      "execution_count": null,
      "outputs": [
        {
          "output_type": "stream",
          "text": [
            "<class 'pandas.core.frame.DataFrame'>\n",
            "RangeIndex: 70000 entries, 0 to 69999\n",
            "Data columns (total 13 columns):\n",
            " #   Column       Non-Null Count  Dtype  \n",
            "---  ------       --------------  -----  \n",
            " 0   id           70000 non-null  int64  \n",
            " 1   age          70000 non-null  int64  \n",
            " 2   gender       70000 non-null  object \n",
            " 3   height       70000 non-null  int64  \n",
            " 4   weight       70000 non-null  float64\n",
            " 5   ap_hi        70000 non-null  int64  \n",
            " 6   ap_lo        70000 non-null  int64  \n",
            " 7   cholesterol  70000 non-null  object \n",
            " 8   gluc         70000 non-null  object \n",
            " 9   smoke        70000 non-null  object \n",
            " 10  alco         70000 non-null  object \n",
            " 11  active       70000 non-null  object \n",
            " 12  cardio       70000 non-null  object \n",
            "dtypes: float64(1), int64(5), object(7)\n",
            "memory usage: 6.9+ MB\n"
          ],
          "name": "stdout"
        }
      ]
    },
    {
      "cell_type": "code",
      "metadata": {
        "id": "w-P6VJ1NHZdM"
      },
      "source": [
        "#dicionario para alterar o genero no dataframe\n",
        "dicionario_gender = {'1':'woman','2':'man'}"
      ],
      "execution_count": null,
      "outputs": []
    },
    {
      "cell_type": "code",
      "metadata": {
        "colab": {
          "base_uri": "https://localhost:8080/",
          "height": 205
        },
        "id": "ZHrdmv1mJV22",
        "outputId": "2ba10111-b9ca-4def-b1a2-952c834e5032"
      },
      "source": [
        "#alterando o numero pelo seu respectivo valor usando o dicionario\n",
        "data['gender'] = [dicionario_gender[resp] for resp in data['gender']]\n",
        "data.head()"
      ],
      "execution_count": null,
      "outputs": [
        {
          "output_type": "execute_result",
          "data": {
            "text/html": [
              "<div>\n",
              "<style scoped>\n",
              "    .dataframe tbody tr th:only-of-type {\n",
              "        vertical-align: middle;\n",
              "    }\n",
              "\n",
              "    .dataframe tbody tr th {\n",
              "        vertical-align: top;\n",
              "    }\n",
              "\n",
              "    .dataframe thead th {\n",
              "        text-align: right;\n",
              "    }\n",
              "</style>\n",
              "<table border=\"1\" class=\"dataframe\">\n",
              "  <thead>\n",
              "    <tr style=\"text-align: right;\">\n",
              "      <th></th>\n",
              "      <th>id</th>\n",
              "      <th>age</th>\n",
              "      <th>gender</th>\n",
              "      <th>height</th>\n",
              "      <th>weight</th>\n",
              "      <th>ap_hi</th>\n",
              "      <th>ap_lo</th>\n",
              "      <th>cholesterol</th>\n",
              "      <th>gluc</th>\n",
              "      <th>smoke</th>\n",
              "      <th>alco</th>\n",
              "      <th>active</th>\n",
              "      <th>cardio</th>\n",
              "    </tr>\n",
              "  </thead>\n",
              "  <tbody>\n",
              "    <tr>\n",
              "      <th>0</th>\n",
              "      <td>0</td>\n",
              "      <td>50</td>\n",
              "      <td>man</td>\n",
              "      <td>168</td>\n",
              "      <td>62.0</td>\n",
              "      <td>110</td>\n",
              "      <td>80</td>\n",
              "      <td>1</td>\n",
              "      <td>1</td>\n",
              "      <td>0</td>\n",
              "      <td>0</td>\n",
              "      <td>1</td>\n",
              "      <td>0</td>\n",
              "    </tr>\n",
              "    <tr>\n",
              "      <th>1</th>\n",
              "      <td>1</td>\n",
              "      <td>55</td>\n",
              "      <td>woman</td>\n",
              "      <td>156</td>\n",
              "      <td>85.0</td>\n",
              "      <td>140</td>\n",
              "      <td>90</td>\n",
              "      <td>3</td>\n",
              "      <td>1</td>\n",
              "      <td>0</td>\n",
              "      <td>0</td>\n",
              "      <td>1</td>\n",
              "      <td>1</td>\n",
              "    </tr>\n",
              "    <tr>\n",
              "      <th>2</th>\n",
              "      <td>2</td>\n",
              "      <td>52</td>\n",
              "      <td>woman</td>\n",
              "      <td>165</td>\n",
              "      <td>64.0</td>\n",
              "      <td>130</td>\n",
              "      <td>70</td>\n",
              "      <td>3</td>\n",
              "      <td>1</td>\n",
              "      <td>0</td>\n",
              "      <td>0</td>\n",
              "      <td>0</td>\n",
              "      <td>1</td>\n",
              "    </tr>\n",
              "    <tr>\n",
              "      <th>3</th>\n",
              "      <td>3</td>\n",
              "      <td>48</td>\n",
              "      <td>man</td>\n",
              "      <td>169</td>\n",
              "      <td>82.0</td>\n",
              "      <td>150</td>\n",
              "      <td>100</td>\n",
              "      <td>1</td>\n",
              "      <td>1</td>\n",
              "      <td>0</td>\n",
              "      <td>0</td>\n",
              "      <td>1</td>\n",
              "      <td>1</td>\n",
              "    </tr>\n",
              "    <tr>\n",
              "      <th>4</th>\n",
              "      <td>4</td>\n",
              "      <td>48</td>\n",
              "      <td>woman</td>\n",
              "      <td>156</td>\n",
              "      <td>56.0</td>\n",
              "      <td>100</td>\n",
              "      <td>60</td>\n",
              "      <td>1</td>\n",
              "      <td>1</td>\n",
              "      <td>0</td>\n",
              "      <td>0</td>\n",
              "      <td>0</td>\n",
              "      <td>0</td>\n",
              "    </tr>\n",
              "  </tbody>\n",
              "</table>\n",
              "</div>"
            ],
            "text/plain": [
              "   id  age gender  height  weight  ...  gluc  smoke alco active cardio\n",
              "0   0   50    man     168    62.0  ...     1      0    0      1      0\n",
              "1   1   55  woman     156    85.0  ...     1      0    0      1      1\n",
              "2   2   52  woman     165    64.0  ...     1      0    0      0      1\n",
              "3   3   48    man     169    82.0  ...     1      0    0      1      1\n",
              "4   4   48  woman     156    56.0  ...     1      0    0      0      0\n",
              "\n",
              "[5 rows x 13 columns]"
            ]
          },
          "metadata": {
            "tags": []
          },
          "execution_count": 35
        }
      ]
    },
    {
      "cell_type": "code",
      "metadata": {
        "colab": {
          "base_uri": "https://localhost:8080/",
          "height": 205
        },
        "id": "DfJCRBhbsvU2",
        "outputId": "d4f30a97-f55c-4c5a-d151-25feb2d9aba3"
      },
      "source": [
        "#calculando o IMC e adicionando ele a base\n",
        "IMC = (data['weight']/(data['height']/100)**2)\n",
        "IMC = pd.DataFrame(IMC)\n",
        "data['IMC'] = IMC.round()\n",
        "data.head()"
      ],
      "execution_count": null,
      "outputs": [
        {
          "output_type": "execute_result",
          "data": {
            "text/html": [
              "<div>\n",
              "<style scoped>\n",
              "    .dataframe tbody tr th:only-of-type {\n",
              "        vertical-align: middle;\n",
              "    }\n",
              "\n",
              "    .dataframe tbody tr th {\n",
              "        vertical-align: top;\n",
              "    }\n",
              "\n",
              "    .dataframe thead th {\n",
              "        text-align: right;\n",
              "    }\n",
              "</style>\n",
              "<table border=\"1\" class=\"dataframe\">\n",
              "  <thead>\n",
              "    <tr style=\"text-align: right;\">\n",
              "      <th></th>\n",
              "      <th>id</th>\n",
              "      <th>age</th>\n",
              "      <th>gender</th>\n",
              "      <th>height</th>\n",
              "      <th>weight</th>\n",
              "      <th>ap_hi</th>\n",
              "      <th>ap_lo</th>\n",
              "      <th>cholesterol</th>\n",
              "      <th>gluc</th>\n",
              "      <th>smoke</th>\n",
              "      <th>alco</th>\n",
              "      <th>active</th>\n",
              "      <th>cardio</th>\n",
              "      <th>IMC</th>\n",
              "    </tr>\n",
              "  </thead>\n",
              "  <tbody>\n",
              "    <tr>\n",
              "      <th>0</th>\n",
              "      <td>0</td>\n",
              "      <td>50</td>\n",
              "      <td>man</td>\n",
              "      <td>168</td>\n",
              "      <td>62.0</td>\n",
              "      <td>110</td>\n",
              "      <td>80</td>\n",
              "      <td>1</td>\n",
              "      <td>1</td>\n",
              "      <td>0</td>\n",
              "      <td>0</td>\n",
              "      <td>1</td>\n",
              "      <td>0</td>\n",
              "      <td>22.0</td>\n",
              "    </tr>\n",
              "    <tr>\n",
              "      <th>1</th>\n",
              "      <td>1</td>\n",
              "      <td>55</td>\n",
              "      <td>woman</td>\n",
              "      <td>156</td>\n",
              "      <td>85.0</td>\n",
              "      <td>140</td>\n",
              "      <td>90</td>\n",
              "      <td>3</td>\n",
              "      <td>1</td>\n",
              "      <td>0</td>\n",
              "      <td>0</td>\n",
              "      <td>1</td>\n",
              "      <td>1</td>\n",
              "      <td>35.0</td>\n",
              "    </tr>\n",
              "    <tr>\n",
              "      <th>2</th>\n",
              "      <td>2</td>\n",
              "      <td>52</td>\n",
              "      <td>woman</td>\n",
              "      <td>165</td>\n",
              "      <td>64.0</td>\n",
              "      <td>130</td>\n",
              "      <td>70</td>\n",
              "      <td>3</td>\n",
              "      <td>1</td>\n",
              "      <td>0</td>\n",
              "      <td>0</td>\n",
              "      <td>0</td>\n",
              "      <td>1</td>\n",
              "      <td>24.0</td>\n",
              "    </tr>\n",
              "    <tr>\n",
              "      <th>3</th>\n",
              "      <td>3</td>\n",
              "      <td>48</td>\n",
              "      <td>man</td>\n",
              "      <td>169</td>\n",
              "      <td>82.0</td>\n",
              "      <td>150</td>\n",
              "      <td>100</td>\n",
              "      <td>1</td>\n",
              "      <td>1</td>\n",
              "      <td>0</td>\n",
              "      <td>0</td>\n",
              "      <td>1</td>\n",
              "      <td>1</td>\n",
              "      <td>29.0</td>\n",
              "    </tr>\n",
              "    <tr>\n",
              "      <th>4</th>\n",
              "      <td>4</td>\n",
              "      <td>48</td>\n",
              "      <td>woman</td>\n",
              "      <td>156</td>\n",
              "      <td>56.0</td>\n",
              "      <td>100</td>\n",
              "      <td>60</td>\n",
              "      <td>1</td>\n",
              "      <td>1</td>\n",
              "      <td>0</td>\n",
              "      <td>0</td>\n",
              "      <td>0</td>\n",
              "      <td>0</td>\n",
              "      <td>23.0</td>\n",
              "    </tr>\n",
              "  </tbody>\n",
              "</table>\n",
              "</div>"
            ],
            "text/plain": [
              "   id  age gender  height  weight  ap_hi  ...  gluc smoke alco active cardio   IMC\n",
              "0   0   50    man     168    62.0    110  ...     1     0    0      1      0  22.0\n",
              "1   1   55  woman     156    85.0    140  ...     1     0    0      1      1  35.0\n",
              "2   2   52  woman     165    64.0    130  ...     1     0    0      0      1  24.0\n",
              "3   3   48    man     169    82.0    150  ...     1     0    0      1      1  29.0\n",
              "4   4   48  woman     156    56.0    100  ...     1     0    0      0      0  23.0\n",
              "\n",
              "[5 rows x 14 columns]"
            ]
          },
          "metadata": {
            "tags": []
          },
          "execution_count": 36
        }
      ]
    },
    {
      "cell_type": "code",
      "metadata": {
        "colab": {
          "base_uri": "https://localhost:8080/",
          "height": 422
        },
        "id": "ABITicVJyIwS",
        "outputId": "478e4d83-a85f-4341-a455-e90613ffa651"
      },
      "source": [
        "#excluindo a coluna de indentificação\n",
        "data.drop(columns=['id'])"
      ],
      "execution_count": null,
      "outputs": [
        {
          "output_type": "execute_result",
          "data": {
            "text/html": [
              "<div>\n",
              "<style scoped>\n",
              "    .dataframe tbody tr th:only-of-type {\n",
              "        vertical-align: middle;\n",
              "    }\n",
              "\n",
              "    .dataframe tbody tr th {\n",
              "        vertical-align: top;\n",
              "    }\n",
              "\n",
              "    .dataframe thead th {\n",
              "        text-align: right;\n",
              "    }\n",
              "</style>\n",
              "<table border=\"1\" class=\"dataframe\">\n",
              "  <thead>\n",
              "    <tr style=\"text-align: right;\">\n",
              "      <th></th>\n",
              "      <th>age</th>\n",
              "      <th>gender</th>\n",
              "      <th>height</th>\n",
              "      <th>weight</th>\n",
              "      <th>ap_hi</th>\n",
              "      <th>ap_lo</th>\n",
              "      <th>cholesterol</th>\n",
              "      <th>gluc</th>\n",
              "      <th>smoke</th>\n",
              "      <th>alco</th>\n",
              "      <th>active</th>\n",
              "      <th>cardio</th>\n",
              "      <th>IMC</th>\n",
              "    </tr>\n",
              "  </thead>\n",
              "  <tbody>\n",
              "    <tr>\n",
              "      <th>0</th>\n",
              "      <td>50</td>\n",
              "      <td>man</td>\n",
              "      <td>168</td>\n",
              "      <td>62.0</td>\n",
              "      <td>110</td>\n",
              "      <td>80</td>\n",
              "      <td>1</td>\n",
              "      <td>1</td>\n",
              "      <td>0</td>\n",
              "      <td>0</td>\n",
              "      <td>1</td>\n",
              "      <td>0</td>\n",
              "      <td>22.0</td>\n",
              "    </tr>\n",
              "    <tr>\n",
              "      <th>1</th>\n",
              "      <td>55</td>\n",
              "      <td>woman</td>\n",
              "      <td>156</td>\n",
              "      <td>85.0</td>\n",
              "      <td>140</td>\n",
              "      <td>90</td>\n",
              "      <td>3</td>\n",
              "      <td>1</td>\n",
              "      <td>0</td>\n",
              "      <td>0</td>\n",
              "      <td>1</td>\n",
              "      <td>1</td>\n",
              "      <td>35.0</td>\n",
              "    </tr>\n",
              "    <tr>\n",
              "      <th>2</th>\n",
              "      <td>52</td>\n",
              "      <td>woman</td>\n",
              "      <td>165</td>\n",
              "      <td>64.0</td>\n",
              "      <td>130</td>\n",
              "      <td>70</td>\n",
              "      <td>3</td>\n",
              "      <td>1</td>\n",
              "      <td>0</td>\n",
              "      <td>0</td>\n",
              "      <td>0</td>\n",
              "      <td>1</td>\n",
              "      <td>24.0</td>\n",
              "    </tr>\n",
              "    <tr>\n",
              "      <th>3</th>\n",
              "      <td>48</td>\n",
              "      <td>man</td>\n",
              "      <td>169</td>\n",
              "      <td>82.0</td>\n",
              "      <td>150</td>\n",
              "      <td>100</td>\n",
              "      <td>1</td>\n",
              "      <td>1</td>\n",
              "      <td>0</td>\n",
              "      <td>0</td>\n",
              "      <td>1</td>\n",
              "      <td>1</td>\n",
              "      <td>29.0</td>\n",
              "    </tr>\n",
              "    <tr>\n",
              "      <th>4</th>\n",
              "      <td>48</td>\n",
              "      <td>woman</td>\n",
              "      <td>156</td>\n",
              "      <td>56.0</td>\n",
              "      <td>100</td>\n",
              "      <td>60</td>\n",
              "      <td>1</td>\n",
              "      <td>1</td>\n",
              "      <td>0</td>\n",
              "      <td>0</td>\n",
              "      <td>0</td>\n",
              "      <td>0</td>\n",
              "      <td>23.0</td>\n",
              "    </tr>\n",
              "    <tr>\n",
              "      <th>...</th>\n",
              "      <td>...</td>\n",
              "      <td>...</td>\n",
              "      <td>...</td>\n",
              "      <td>...</td>\n",
              "      <td>...</td>\n",
              "      <td>...</td>\n",
              "      <td>...</td>\n",
              "      <td>...</td>\n",
              "      <td>...</td>\n",
              "      <td>...</td>\n",
              "      <td>...</td>\n",
              "      <td>...</td>\n",
              "      <td>...</td>\n",
              "    </tr>\n",
              "    <tr>\n",
              "      <th>69995</th>\n",
              "      <td>53</td>\n",
              "      <td>man</td>\n",
              "      <td>168</td>\n",
              "      <td>76.0</td>\n",
              "      <td>120</td>\n",
              "      <td>80</td>\n",
              "      <td>1</td>\n",
              "      <td>1</td>\n",
              "      <td>1</td>\n",
              "      <td>0</td>\n",
              "      <td>1</td>\n",
              "      <td>0</td>\n",
              "      <td>27.0</td>\n",
              "    </tr>\n",
              "    <tr>\n",
              "      <th>69996</th>\n",
              "      <td>62</td>\n",
              "      <td>woman</td>\n",
              "      <td>158</td>\n",
              "      <td>126.0</td>\n",
              "      <td>140</td>\n",
              "      <td>90</td>\n",
              "      <td>2</td>\n",
              "      <td>2</td>\n",
              "      <td>0</td>\n",
              "      <td>0</td>\n",
              "      <td>1</td>\n",
              "      <td>1</td>\n",
              "      <td>50.0</td>\n",
              "    </tr>\n",
              "    <tr>\n",
              "      <th>69997</th>\n",
              "      <td>52</td>\n",
              "      <td>man</td>\n",
              "      <td>183</td>\n",
              "      <td>105.0</td>\n",
              "      <td>180</td>\n",
              "      <td>90</td>\n",
              "      <td>3</td>\n",
              "      <td>1</td>\n",
              "      <td>0</td>\n",
              "      <td>1</td>\n",
              "      <td>0</td>\n",
              "      <td>1</td>\n",
              "      <td>31.0</td>\n",
              "    </tr>\n",
              "    <tr>\n",
              "      <th>69998</th>\n",
              "      <td>61</td>\n",
              "      <td>woman</td>\n",
              "      <td>163</td>\n",
              "      <td>72.0</td>\n",
              "      <td>135</td>\n",
              "      <td>80</td>\n",
              "      <td>1</td>\n",
              "      <td>2</td>\n",
              "      <td>0</td>\n",
              "      <td>0</td>\n",
              "      <td>0</td>\n",
              "      <td>1</td>\n",
              "      <td>27.0</td>\n",
              "    </tr>\n",
              "    <tr>\n",
              "      <th>69999</th>\n",
              "      <td>56</td>\n",
              "      <td>woman</td>\n",
              "      <td>170</td>\n",
              "      <td>72.0</td>\n",
              "      <td>120</td>\n",
              "      <td>80</td>\n",
              "      <td>2</td>\n",
              "      <td>1</td>\n",
              "      <td>0</td>\n",
              "      <td>0</td>\n",
              "      <td>1</td>\n",
              "      <td>0</td>\n",
              "      <td>25.0</td>\n",
              "    </tr>\n",
              "  </tbody>\n",
              "</table>\n",
              "<p>70000 rows × 13 columns</p>\n",
              "</div>"
            ],
            "text/plain": [
              "       age gender  height  weight  ap_hi  ...  smoke alco active cardio   IMC\n",
              "0       50    man     168    62.0    110  ...      0    0      1      0  22.0\n",
              "1       55  woman     156    85.0    140  ...      0    0      1      1  35.0\n",
              "2       52  woman     165    64.0    130  ...      0    0      0      1  24.0\n",
              "3       48    man     169    82.0    150  ...      0    0      1      1  29.0\n",
              "4       48  woman     156    56.0    100  ...      0    0      0      0  23.0\n",
              "...    ...    ...     ...     ...    ...  ...    ...  ...    ...    ...   ...\n",
              "69995   53    man     168    76.0    120  ...      1    0      1      0  27.0\n",
              "69996   62  woman     158   126.0    140  ...      0    0      1      1  50.0\n",
              "69997   52    man     183   105.0    180  ...      0    1      0      1  31.0\n",
              "69998   61  woman     163    72.0    135  ...      0    0      0      1  27.0\n",
              "69999   56  woman     170    72.0    120  ...      0    0      1      0  25.0\n",
              "\n",
              "[70000 rows x 13 columns]"
            ]
          },
          "metadata": {
            "tags": []
          },
          "execution_count": 37
        }
      ]
    },
    {
      "cell_type": "code",
      "metadata": {
        "colab": {
          "base_uri": "https://localhost:8080/",
          "height": 288
        },
        "id": "og_Vtc6-fjWt",
        "outputId": "bfc160b3-52e8-4fef-937e-a8478debb95b"
      },
      "source": [
        "#correlação das variáveis quantitativas\n",
        "corrnum = data[['height','weight',\t'ap_hi',\t'ap_lo','age','IMC' ]].corr()\n",
        "sns.heatmap(corrnum, annot=True)"
      ],
      "execution_count": null,
      "outputs": [
        {
          "output_type": "execute_result",
          "data": {
            "text/plain": [
              "<matplotlib.axes._subplots.AxesSubplot at 0x7fbaddc811d0>"
            ]
          },
          "metadata": {
            "tags": []
          },
          "execution_count": 38
        },
        {
          "output_type": "display_data",
          "data": {
            "image/png": "[encoded data removed]",
            "text/plain": [
              "<Figure size 432x288 with 2 Axes>"
            ]
          },
          "metadata": {
            "tags": [],
            "needs_background": "light"
          }
        }
      ]
    },
    {
      "cell_type": "markdown",
      "metadata": {
        "id": "KDtb4DnlU6Yp"
      },
      "source": [
        "##criando um novo data para manipular, data = idades"
      ]
    },
    {
      "cell_type": "code",
      "metadata": {
        "colab": {
          "base_uri": "https://localhost:8080/"
        },
        "id": "R2sI031F_iWE",
        "outputId": "d08c2c91-6de3-4b0b-c39f-183511ef748b"
      },
      "source": [
        "#selecionando dados que irei trabalhar usando o filtro, assim fica melhor para trabalhar com poucas variaveis\n",
        "idades_vizualisacao = ['age','cardio','gender']\n",
        "idades = data.filter(items=idades_vizualisacao)\n",
        "idades.shape\n"
      ],
      "execution_count": null,
      "outputs": [
        {
          "output_type": "execute_result",
          "data": {
            "text/plain": [
              "(70000, 3)"
            ]
          },
          "metadata": {
            "tags": []
          },
          "execution_count": 39
        }
      ]
    },
    {
      "cell_type": "code",
      "metadata": {
        "id": "SaXGBM6uL08X"
      },
      "source": [
        "#criando um dicionario para outras variaveis qualitativas que estão em numeros\n",
        "dicionario_cardio = {'1':'positivo','0':'negativo'}\n",
        "idades['cardio'] = [dicionario_cardio[resp] for resp in idades['cardio']]\n"
      ],
      "execution_count": null,
      "outputs": []
    },
    {
      "cell_type": "code",
      "metadata": {
        "colab": {
          "base_uri": "https://localhost:8080/",
          "height": 205
        },
        "id": "QGbLcoRuPGz6",
        "outputId": "8c0e0924-a2f2-42af-ddb8-5fbbc6cfa388"
      },
      "source": [
        "idades.head()"
      ],
      "execution_count": null,
      "outputs": [
        {
          "output_type": "execute_result",
          "data": {
            "text/html": [
              "<div>\n",
              "<style scoped>\n",
              "    .dataframe tbody tr th:only-of-type {\n",
              "        vertical-align: middle;\n",
              "    }\n",
              "\n",
              "    .dataframe tbody tr th {\n",
              "        vertical-align: top;\n",
              "    }\n",
              "\n",
              "    .dataframe thead th {\n",
              "        text-align: right;\n",
              "    }\n",
              "</style>\n",
              "<table border=\"1\" class=\"dataframe\">\n",
              "  <thead>\n",
              "    <tr style=\"text-align: right;\">\n",
              "      <th></th>\n",
              "      <th>age</th>\n",
              "      <th>cardio</th>\n",
              "      <th>gender</th>\n",
              "    </tr>\n",
              "  </thead>\n",
              "  <tbody>\n",
              "    <tr>\n",
              "      <th>0</th>\n",
              "      <td>50</td>\n",
              "      <td>negativo</td>\n",
              "      <td>man</td>\n",
              "    </tr>\n",
              "    <tr>\n",
              "      <th>1</th>\n",
              "      <td>55</td>\n",
              "      <td>positivo</td>\n",
              "      <td>woman</td>\n",
              "    </tr>\n",
              "    <tr>\n",
              "      <th>2</th>\n",
              "      <td>52</td>\n",
              "      <td>positivo</td>\n",
              "      <td>woman</td>\n",
              "    </tr>\n",
              "    <tr>\n",
              "      <th>3</th>\n",
              "      <td>48</td>\n",
              "      <td>positivo</td>\n",
              "      <td>man</td>\n",
              "    </tr>\n",
              "    <tr>\n",
              "      <th>4</th>\n",
              "      <td>48</td>\n",
              "      <td>negativo</td>\n",
              "      <td>woman</td>\n",
              "    </tr>\n",
              "  </tbody>\n",
              "</table>\n",
              "</div>"
            ],
            "text/plain": [
              "   age    cardio gender\n",
              "0   50  negativo    man\n",
              "1   55  positivo  woman\n",
              "2   52  positivo  woman\n",
              "3   48  positivo    man\n",
              "4   48  negativo  woman"
            ]
          },
          "metadata": {
            "tags": []
          },
          "execution_count": 41
        }
      ]
    },
    {
      "cell_type": "code",
      "metadata": {
        "colab": {
          "base_uri": "https://localhost:8080/",
          "height": 809
        },
        "id": "XIKa-4dMzCP1",
        "outputId": "b4364768-dee5-4d50-e813-c1913bdbe84a"
      },
      "source": [
        "plt.figure(figsize=(10, 6))\n",
        "plt.subplot(1, 2, 1)\n",
        "sns.histplot(idades.query('cardio == \"positivo\"')['age'], palette='RdBu', bins = 8 )\n",
        "plt.title('presença de problema cardiaco')\n",
        "plt.xlabel('Idade')\n",
        "plt.ylabel('Frequência Absoluta')\n",
        "\n",
        "plt.figure(figsize=(12, 6))\n",
        "plt.subplot(1, 2, 2)\n",
        "sns.histplot(idades.query('cardio == \"negativo\"')['age'], palette='RdBu', bins = 8 )\n",
        "plt.title('sem presença de problema cardiaco')\n",
        "plt.xlabel('Idade')\n",
        "plt.ylabel('Frequência Absoluta')"
      ],
      "execution_count": null,
      "outputs": [
        {
          "output_type": "execute_result",
          "data": {
            "text/plain": [
              "Text(0, 0.5, 'Frequência Absoluta')"
            ]
          },
          "metadata": {
            "tags": []
          },
          "execution_count": 42
        },
        {
          "output_type": "display_data",
          "data": {
            "image/png": "[encoded data removed]",
            "text/plain": [
              "<Figure size 720x432 with 1 Axes>"
            ]
          },
          "metadata": {
            "tags": [],
            "needs_background": "light"
          }
        },
        {
          "output_type": "display_data",
          "data": {
            "image/png": "[encoded data removed]",
            "text/plain": [
              "<Figure size 864x432 with 1 Axes>"
            ]
          },
          "metadata": {
            "tags": [],
            "needs_background": "light"
          }
        }
      ]
    },
    {
      "cell_type": "code",
      "metadata": {
        "colab": {
          "base_uri": "https://localhost:8080/",
          "height": 313
        },
        "id": "VE4AIWzqChLt",
        "outputId": "e9b3bf67-a03f-47b4-9a8b-6843d03aa789"
      },
      "source": [
        "#Histograma das frequencias de doença cardiaca por faixas etária - ta feio tem que melhorar\n",
        "# plt.subplot(1,2,1)\n",
        "# sns.histplot(x = 'age', hue = 'cardio',data = idades.query('gender == \"woman\"'), bins=8)\n",
        "# plt.title('Histograma das frequencias de doença cardiaca por faixas etária')\n",
        "# plt.xlabel('Idade')\n",
        "# plt.ylabel('Frequência Absoluta')\n",
        "#adicionar transparencia e mudar as cores\n"
      ],
      "execution_count": null,
      "outputs": [
        {
          "output_type": "execute_result",
          "data": {
            "text/plain": [
              "Text(0, 0.5, 'Frequência Absoluta')"
            ]
          },
          "metadata": {
            "tags": []
          },
          "execution_count": 43
        },
        {
          "output_type": "display_data",
          "data": {
            "image/png": "[encoded data removed]",
            "text/plain": [
              "<Figure size 432x288 with 1 Axes>"
            ]
          },
          "metadata": {
            "tags": [],
            "needs_background": "light"
          }
        }
      ]
    },
    {
      "cell_type": "code",
      "metadata": {
        "colab": {
          "base_uri": "https://localhost:8080/",
          "height": 422
        },
        "id": "c-nOG4AnxuGm",
        "outputId": "100908cf-3e7a-4670-eaa5-f104e0d7520d"
      },
      "source": [
        "plt.figure(figsize=(12, 6))\n",
        "plt.subplot(1, 2, 1)\n",
        "sns.histplot(data.query('gender == \"woman\"')['age'], palette='RdBu', bins = 8)\n",
        "plt.title('Feminino')\n",
        "plt.xlabel('Idade')\n",
        "plt.ylabel('Frequência Absoluta')\n",
        "\n",
        "plt.subplot(1, 2, 2)\n",
        "sns.histplot(data.query('gender == \"man\"')['age'], palette='RdBu',bins = 8)\n",
        "plt.title('Masculino')\n",
        "plt.xlabel('Idade')\n",
        "plt.ylabel('Frequência Absoluta')"
      ],
      "execution_count": null,
      "outputs": [
        {
          "output_type": "execute_result",
          "data": {
            "text/plain": [
              "Text(0, 0.5, 'Frequência Absoluta')"
            ]
          },
          "metadata": {
            "tags": []
          },
          "execution_count": 46
        },
        {
          "output_type": "display_data",
          "data": {
            "image/png": "[encoded data removed]",
            "text/plain": [
              "<Figure size 864x432 with 2 Axes>"
            ]
          },
          "metadata": {
            "tags": [],
            "needs_background": "light"
          }
        }
      ]
    },
    {
      "cell_type": "code",
      "metadata": {
        "colab": {
          "base_uri": "https://localhost:8080/",
          "height": 422
        },
        "id": "DL-A1GpnxDfD",
        "outputId": "762719e7-6405-465f-e2cb-6e330840b384"
      },
      "source": [
        "plt.figure(figsize=(12, 6))\n",
        "plt.subplot(1, 2, 1)\n",
        "sns.histplot(data.query('gender == \"woman\"')['cardio'], palette='RdBu')\n",
        "plt.title('Feminino')\n",
        "\n",
        "plt.subplot(1, 2, 2)\n",
        "sns.histplot(data.query('gender == \"man\"')['cardio'], palette='RdBu')\n",
        "plt.title('Masculino')"
      ],
      "execution_count": null,
      "outputs": [
        {
          "output_type": "execute_result",
          "data": {
            "text/plain": [
              "Text(0.5, 1.0, 'Masculino')"
            ]
          },
          "metadata": {
            "tags": []
          },
          "execution_count": 47
        },
        {
          "output_type": "display_data",
          "data": {
            "image/png": "[encoded data removed]",
            "text/plain": [
              "<Figure size 864x432 with 2 Axes>"
            ]
          },
          "metadata": {
            "tags": [],
            "needs_background": "light"
          }
        }
      ]
    },
    {
      "cell_type": "code",
      "metadata": {
        "colab": {
          "base_uri": "https://localhost:8080/",
          "height": 315
        },
        "id": "Pk6NsWS_h1b0",
        "outputId": "3ca7642e-039a-4684-dcd3-5edade130998"
      },
      "source": [
        "#boxplot de doença cardíaca por faixas etária e sexo - pode melhorar tambemm\n",
        "sns.boxplot(x='cardio', y = 'age', hue='gender', data=idades,palette='Blues_d')\n",
        "plt.title('boxplot de doença cardíaca por faixas etária e sexo')\n",
        "plt.xlabel('doença cardíaca')\n",
        "plt.ylabel('idade')"
      ],
      "execution_count": null,
      "outputs": [
        {
          "output_type": "execute_result",
          "data": {
            "text/plain": [
              "Text(0, 0.5, 'idade')"
            ]
          },
          "metadata": {
            "tags": []
          },
          "execution_count": 48
        },
        {
          "output_type": "display_data",
          "data": {
            "image/png": "[encoded data removed]",
            "text/plain": [
              "<Figure size 432x288 with 1 Axes>"
            ]
          },
          "metadata": {
            "tags": [],
            "needs_background": "light"
          }
        }
      ]
    },
    {
      "cell_type": "code",
      "metadata": {
        "colab": {
          "base_uri": "https://localhost:8080/",
          "height": 297
        },
        "id": "GnIDsjdwrLX8",
        "outputId": "5dc8a463-f6d2-49a5-e4d2-158dd877b1fc"
      },
      "source": [
        "# Gráfico de barras de problemas cardiacos por idade e sexo\n",
        "sns.barplot(x='cardio', y='age', data=data,\n",
        "            hue='gender',palette='RdBu')"
      ],
      "execution_count": null,
      "outputs": [
        {
          "output_type": "execute_result",
          "data": {
            "text/plain": [
              "<matplotlib.axes._subplots.AxesSubplot at 0x7fbadbb91550>"
            ]
          },
          "metadata": {
            "tags": []
          },
          "execution_count": 49
        },
        {
          "output_type": "display_data",
          "data": {
            "image/png": "[encoded data removed]",
            "text/plain": [
              "<Figure size 432x288 with 1 Axes>"
            ]
          },
          "metadata": {
            "tags": [],
            "needs_background": "light"
          }
        }
      ]
    },
    {
      "cell_type": "code",
      "metadata": {
        "colab": {
          "base_uri": "https://localhost:8080/"
        },
        "id": "sd0hY_XVmZjH",
        "outputId": "bd8c9721-cef5-4ff7-ea16-77c25297e772"
      },
      "source": [
        "\n",
        "data['age'].describe()"
      ],
      "execution_count": null,
      "outputs": [
        {
          "output_type": "execute_result",
          "data": {
            "text/plain": [
              "count    70000.000000\n",
              "mean        53.338686\n",
              "std          6.765294\n",
              "min         30.000000\n",
              "25%         48.000000\n",
              "50%         54.000000\n",
              "75%         58.000000\n",
              "max         65.000000\n",
              "Name: age, dtype: float64"
            ]
          },
          "metadata": {
            "tags": []
          },
          "execution_count": 50
        }
      ]
    },
    {
      "cell_type": "code",
      "metadata": {
        "colab": {
          "base_uri": "https://localhost:8080/",
          "height": 279
        },
        "id": "TOcAzsQZmPw0",
        "outputId": "1fd9cc15-7027-4fb5-a475-34e64d4fa8de"
      },
      "source": [
        "#procurando saber qual sexo tem mais pessoas com doença cardiaca\n",
        "ax = sns.countplot(x = 'cardio', hue = 'gender',data = data, palette='RdBu')"
      ],
      "execution_count": null,
      "outputs": [
        {
          "output_type": "display_data",
          "data": {
            "image/png": "[encoded data removed]",
            "text/plain": [
              "<Figure size 432x288 with 1 Axes>"
            ]
          },
          "metadata": {
            "tags": [],
            "needs_background": "light"
          }
        }
      ]
    },
    {
      "cell_type": "markdown",
      "metadata": {
        "id": "Xc_5MAFNVK0l"
      },
      "source": [
        "##aplicando o Teste qui quadrado de pearson as variaveis qualitativas"
      ]
    },
    {
      "cell_type": "code",
      "metadata": {
        "colab": {
          "base_uri": "https://localhost:8080/",
          "height": 205
        },
        "id": "J3eBFx4HGwuV",
        "outputId": "6d6ff482-ad7c-49d5-d9e8-8e1a4282875e"
      },
      "source": [
        "#aplicando o Teste qui quadrado de pearson as variaveis qualitativas\n",
        "#primeiramente vamos seleciona-las para facilitar o trabalho\n",
        "colunas_selecionadas = ['gender','cardio','gluc','cholesterol','active','smoke','alco']\n",
        "new_data = data.filter(items=colunas_selecionadas)\n",
        "new_data.head()"
      ],
      "execution_count": null,
      "outputs": [
        {
          "output_type": "execute_result",
          "data": {
            "text/html": [
              "<div>\n",
              "<style scoped>\n",
              "    .dataframe tbody tr th:only-of-type {\n",
              "        vertical-align: middle;\n",
              "    }\n",
              "\n",
              "    .dataframe tbody tr th {\n",
              "        vertical-align: top;\n",
              "    }\n",
              "\n",
              "    .dataframe thead th {\n",
              "        text-align: right;\n",
              "    }\n",
              "</style>\n",
              "<table border=\"1\" class=\"dataframe\">\n",
              "  <thead>\n",
              "    <tr style=\"text-align: right;\">\n",
              "      <th></th>\n",
              "      <th>gender</th>\n",
              "      <th>cardio</th>\n",
              "      <th>gluc</th>\n",
              "      <th>cholesterol</th>\n",
              "      <th>active</th>\n",
              "      <th>smoke</th>\n",
              "      <th>alco</th>\n",
              "    </tr>\n",
              "  </thead>\n",
              "  <tbody>\n",
              "    <tr>\n",
              "      <th>0</th>\n",
              "      <td>man</td>\n",
              "      <td>0</td>\n",
              "      <td>1</td>\n",
              "      <td>1</td>\n",
              "      <td>1</td>\n",
              "      <td>0</td>\n",
              "      <td>0</td>\n",
              "    </tr>\n",
              "    <tr>\n",
              "      <th>1</th>\n",
              "      <td>woman</td>\n",
              "      <td>1</td>\n",
              "      <td>1</td>\n",
              "      <td>3</td>\n",
              "      <td>1</td>\n",
              "      <td>0</td>\n",
              "      <td>0</td>\n",
              "    </tr>\n",
              "    <tr>\n",
              "      <th>2</th>\n",
              "      <td>woman</td>\n",
              "      <td>1</td>\n",
              "      <td>1</td>\n",
              "      <td>3</td>\n",
              "      <td>0</td>\n",
              "      <td>0</td>\n",
              "      <td>0</td>\n",
              "    </tr>\n",
              "    <tr>\n",
              "      <th>3</th>\n",
              "      <td>man</td>\n",
              "      <td>1</td>\n",
              "      <td>1</td>\n",
              "      <td>1</td>\n",
              "      <td>1</td>\n",
              "      <td>0</td>\n",
              "      <td>0</td>\n",
              "    </tr>\n",
              "    <tr>\n",
              "      <th>4</th>\n",
              "      <td>woman</td>\n",
              "      <td>0</td>\n",
              "      <td>1</td>\n",
              "      <td>1</td>\n",
              "      <td>0</td>\n",
              "      <td>0</td>\n",
              "      <td>0</td>\n",
              "    </tr>\n",
              "  </tbody>\n",
              "</table>\n",
              "</div>"
            ],
            "text/plain": [
              "  gender cardio gluc cholesterol active smoke alco\n",
              "0    man      0    1           1      1     0    0\n",
              "1  woman      1    1           3      1     0    0\n",
              "2  woman      1    1           3      0     0    0\n",
              "3    man      1    1           1      1     0    0\n",
              "4  woman      0    1           1      0     0    0"
            ]
          },
          "metadata": {
            "tags": []
          },
          "execution_count": 52
        }
      ]
    },
    {
      "cell_type": "code",
      "metadata": {
        "id": "mmHmawuORY-E"
      },
      "source": [
        "#aplicando os dicionarios no novo data frame\n",
        "dicionario_cardio = {'1':'positivo','0':'negativo'}\n",
        "cholesterol_gluc = {'1':'Normal','2':'above_normal','3':'well_above_normal'}"
      ],
      "execution_count": null,
      "outputs": []
    },
    {
      "cell_type": "code",
      "metadata": {
        "id": "4E7GSLpCRm7m"
      },
      "source": [
        "#aplicando os dicionarios no novo data frame\n",
        "new_data['cardio'] = [dicionario_cardio[resp] for resp in new_data['cardio']]\n"
      ],
      "execution_count": null,
      "outputs": []
    },
    {
      "cell_type": "code",
      "metadata": {
        "id": "2KUmTA24SC6r"
      },
      "source": [
        "#aplicando os dicionarios no novo data frame\n",
        "new_data['active'] = [dicionario_cardio[resp] for resp in new_data['active']]\n",
        "new_data['smoke'] = [dicionario_cardio[resp] for resp in new_data['smoke']]\n",
        "new_data['alco'] = [dicionario_cardio[resp] for resp in new_data['alco']]\n"
      ],
      "execution_count": null,
      "outputs": []
    },
    {
      "cell_type": "code",
      "metadata": {
        "id": "w7vUVJRoSwO4"
      },
      "source": [
        "#aplicando os dicionarios no novo data frame\n",
        "new_data['gluc'] = [cholesterol_gluc[resp] for resp in new_data['gluc']]\n",
        "new_data['cholesterol'] = [cholesterol_gluc[resp] for resp in new_data['cholesterol']]"
      ],
      "execution_count": null,
      "outputs": []
    },
    {
      "cell_type": "code",
      "metadata": {
        "colab": {
          "base_uri": "https://localhost:8080/",
          "height": 205
        },
        "id": "QFZ_bgl3TAaF",
        "outputId": "584bef75-ecc0-4bb8-e8ba-3997c2fc7d45"
      },
      "source": [
        "new_data.head()"
      ],
      "execution_count": null,
      "outputs": [
        {
          "output_type": "execute_result",
          "data": {
            "text/html": [
              "<div>\n",
              "<style scoped>\n",
              "    .dataframe tbody tr th:only-of-type {\n",
              "        vertical-align: middle;\n",
              "    }\n",
              "\n",
              "    .dataframe tbody tr th {\n",
              "        vertical-align: top;\n",
              "    }\n",
              "\n",
              "    .dataframe thead th {\n",
              "        text-align: right;\n",
              "    }\n",
              "</style>\n",
              "<table border=\"1\" class=\"dataframe\">\n",
              "  <thead>\n",
              "    <tr style=\"text-align: right;\">\n",
              "      <th></th>\n",
              "      <th>gender</th>\n",
              "      <th>cardio</th>\n",
              "      <th>gluc</th>\n",
              "      <th>cholesterol</th>\n",
              "      <th>active</th>\n",
              "      <th>smoke</th>\n",
              "      <th>alco</th>\n",
              "    </tr>\n",
              "  </thead>\n",
              "  <tbody>\n",
              "    <tr>\n",
              "      <th>0</th>\n",
              "      <td>man</td>\n",
              "      <td>negativo</td>\n",
              "      <td>Normal</td>\n",
              "      <td>Normal</td>\n",
              "      <td>positivo</td>\n",
              "      <td>negativo</td>\n",
              "      <td>negativo</td>\n",
              "    </tr>\n",
              "    <tr>\n",
              "      <th>1</th>\n",
              "      <td>woman</td>\n",
              "      <td>positivo</td>\n",
              "      <td>Normal</td>\n",
              "      <td>well_above_normal</td>\n",
              "      <td>positivo</td>\n",
              "      <td>negativo</td>\n",
              "      <td>negativo</td>\n",
              "    </tr>\n",
              "    <tr>\n",
              "      <th>2</th>\n",
              "      <td>woman</td>\n",
              "      <td>positivo</td>\n",
              "      <td>Normal</td>\n",
              "      <td>well_above_normal</td>\n",
              "      <td>negativo</td>\n",
              "      <td>negativo</td>\n",
              "      <td>negativo</td>\n",
              "    </tr>\n",
              "    <tr>\n",
              "      <th>3</th>\n",
              "      <td>man</td>\n",
              "      <td>positivo</td>\n",
              "      <td>Normal</td>\n",
              "      <td>Normal</td>\n",
              "      <td>positivo</td>\n",
              "      <td>negativo</td>\n",
              "      <td>negativo</td>\n",
              "    </tr>\n",
              "    <tr>\n",
              "      <th>4</th>\n",
              "      <td>woman</td>\n",
              "      <td>negativo</td>\n",
              "      <td>Normal</td>\n",
              "      <td>Normal</td>\n",
              "      <td>negativo</td>\n",
              "      <td>negativo</td>\n",
              "      <td>negativo</td>\n",
              "    </tr>\n",
              "  </tbody>\n",
              "</table>\n",
              "</div>"
            ],
            "text/plain": [
              "  gender    cardio    gluc        cholesterol    active     smoke      alco\n",
              "0    man  negativo  Normal             Normal  positivo  negativo  negativo\n",
              "1  woman  positivo  Normal  well_above_normal  positivo  negativo  negativo\n",
              "2  woman  positivo  Normal  well_above_normal  negativo  negativo  negativo\n",
              "3    man  positivo  Normal             Normal  positivo  negativo  negativo\n",
              "4  woman  negativo  Normal             Normal  negativo  negativo  negativo"
            ]
          },
          "metadata": {
            "tags": []
          },
          "execution_count": 57
        }
      ]
    },
    {
      "cell_type": "code",
      "metadata": {
        "id": "VTw7bja5XfZT"
      },
      "source": [
        "#isolando as colunas ara aplicar o metodo de qui-quadrado de pearson nos dados qualitativos\n",
        "cardio = new_data['cardio']\n",
        "gender = new_data['gender']\n",
        "gluc = new_data['gluc']\n",
        "cholesterol = new_data['cholesterol']\n",
        "active = new_data['active']\n",
        "smoke = new_data['smoke']\n",
        "alco = new_data['alco']"
      ],
      "execution_count": null,
      "outputs": []
    },
    {
      "cell_type": "code",
      "metadata": {
        "colab": {
          "base_uri": "https://localhost:8080/"
        },
        "id": "b6ae2EJVYbNb",
        "outputId": "dbff28ac-dfa9-4076-a5ee-e433a8cd7410"
      },
      "source": [
        "tab1 = pd.crosstab(cardio,smoke)\n",
        "from scipy.stats import  chi2_contingency\n",
        "chi2, p, dof, exp = chi2_contingency(tab1.values)\n",
        "print('Qui-quadrado: {:0.3} p-valor: {:0.3} '.format(chi2,p))"
      ],
      "execution_count": null,
      "outputs": [
        {
          "output_type": "stream",
          "text": [
            "Qui-quadrado: 16.7 p-valor: 4.43e-05 \n"
          ],
          "name": "stdout"
        }
      ]
    },
    {
      "cell_type": "code",
      "metadata": {
        "colab": {
          "base_uri": "https://localhost:8080/"
        },
        "id": "RC_b6SEMZifB",
        "outputId": "2691278d-6eba-4d05-835d-579544b69dec"
      },
      "source": [
        "tab2 = pd.crosstab(cardio,active)\n",
        "from scipy.stats import  chi2_contingency\n",
        "chi2, p, dof, exp = chi2_contingency(tab2.values)\n",
        "print('Qui-quadrado: {:0.3} p-valor: {:0.3} '.format(chi2,p))"
      ],
      "execution_count": null,
      "outputs": [
        {
          "output_type": "stream",
          "text": [
            "Qui-quadrado: 88.8 p-valor: 4.37e-21 \n"
          ],
          "name": "stdout"
        }
      ]
    },
    {
      "cell_type": "code",
      "metadata": {
        "colab": {
          "base_uri": "https://localhost:8080/"
        },
        "id": "LNZabE6NTaFc",
        "outputId": "0e15a749-a4ea-4573-c328-35a328483bf8"
      },
      "source": [
        "tab3 = pd.crosstab(cardio,gender)\n",
        "from scipy.stats import  chi2_contingency\n",
        "chi2, p, dof, exp = chi2_contingency(tab3.values)\n",
        "print('Qui-quadrado: {:0.3} p-valor: {:0.3} '.format(chi2,p))"
      ],
      "execution_count": null,
      "outputs": [
        {
          "output_type": "stream",
          "text": [
            "Qui-quadrado: 4.57 p-valor: 0.0325 \n"
          ],
          "name": "stdout"
        }
      ]
    },
    {
      "cell_type": "code",
      "metadata": {
        "colab": {
          "base_uri": "https://localhost:8080/"
        },
        "id": "ULwSb1JxZoDi",
        "outputId": "8c4e446c-151b-4281-cdbe-0a33778cacf8"
      },
      "source": [
        "tab4 = pd.crosstab(cardio,cholesterol)\n",
        "from scipy.stats import  chi2_contingency\n",
        "chi2, p, dof, exp = chi2_contingency(tab4.values)\n",
        "print('Qui-quadrado: {:0.3} p-valor: {:0.3} '.format(chi2,p))"
      ],
      "execution_count": null,
      "outputs": [
        {
          "output_type": "stream",
          "text": [
            "Qui-quadrado: 3.42e+03 p-valor: 0.0 \n"
          ],
          "name": "stdout"
        }
      ]
    },
    {
      "cell_type": "code",
      "metadata": {
        "colab": {
          "base_uri": "https://localhost:8080/"
        },
        "id": "hXa1O5rPZqPT",
        "outputId": "0a19ffc5-d87d-4f72-91b3-34d8586049fb"
      },
      "source": [
        "tab5 = pd.crosstab(cardio,gluc)\n",
        "from scipy.stats import  chi2_contingency\n",
        "chi2, p, dof, exp = chi2_contingency(tab5.values)\n",
        "print('Qui-quadrado: {:0.3} p-valor: {:0.3} '.format(chi2,p))"
      ],
      "execution_count": null,
      "outputs": [
        {
          "output_type": "stream",
          "text": [
            "Qui-quadrado: 5.87e+02 p-valor: 3.58e-128 \n"
          ],
          "name": "stdout"
        }
      ]
    },
    {
      "cell_type": "code",
      "metadata": {
        "colab": {
          "base_uri": "https://localhost:8080/"
        },
        "id": "Z0k7613XZxdE",
        "outputId": "706a701e-367e-40b6-828a-72e093d5606a"
      },
      "source": [
        "tab6 = pd.crosstab(cardio,alco)\n",
        "from scipy.stats import  chi2_contingency\n",
        "chi2, p, dof, exp = chi2_contingency(tab6.values)\n",
        "print('Qui-quadrado: {:0.3} p-valor: {:0.3} '.format(chi2,p))"
      ],
      "execution_count": null,
      "outputs": [
        {
          "output_type": "stream",
          "text": [
            "Qui-quadrado: 3.7 p-valor: 0.0545 \n"
          ],
          "name": "stdout"
        }
      ]
    },
    {
      "cell_type": "markdown",
      "metadata": {
        "id": "HyShm83mhPIZ"
      },
      "source": [
        "todos os p valores são menores que o qui quadrado o que indica que podemos rejeitar a hipotese nula e assim concluir que as variaveis estão relacionadas(porém tenho que estudar isso melhor)"
      ]
    },
    {
      "cell_type": "code",
      "metadata": {
        "colab": {
          "base_uri": "https://localhost:8080/",
          "height": 205
        },
        "id": "R_Y8uu3qg8if",
        "outputId": "6576f58b-988e-4d5c-ca05-ffd9d256d5ee"
      },
      "source": [
        "#fazedo o teste de shapiro wilk para verificar se os dados estão normalizados\n",
        "dados_numericos = ['height',\t'weight'\t,'IMC','age',\t'ap_hi',\t'ap_lo']\n",
        "shapiro_test = data.filter(items=dados_numericos)\n",
        "shapiro_test.head()"
      ],
      "execution_count": null,
      "outputs": [
        {
          "output_type": "execute_result",
          "data": {
            "text/html": [
              "<div>\n",
              "<style scoped>\n",
              "    .dataframe tbody tr th:only-of-type {\n",
              "        vertical-align: middle;\n",
              "    }\n",
              "\n",
              "    .dataframe tbody tr th {\n",
              "        vertical-align: top;\n",
              "    }\n",
              "\n",
              "    .dataframe thead th {\n",
              "        text-align: right;\n",
              "    }\n",
              "</style>\n",
              "<table border=\"1\" class=\"dataframe\">\n",
              "  <thead>\n",
              "    <tr style=\"text-align: right;\">\n",
              "      <th></th>\n",
              "      <th>height</th>\n",
              "      <th>weight</th>\n",
              "      <th>IMC</th>\n",
              "      <th>age</th>\n",
              "      <th>ap_hi</th>\n",
              "      <th>ap_lo</th>\n",
              "    </tr>\n",
              "  </thead>\n",
              "  <tbody>\n",
              "    <tr>\n",
              "      <th>0</th>\n",
              "      <td>168</td>\n",
              "      <td>62.0</td>\n",
              "      <td>22.0</td>\n",
              "      <td>50</td>\n",
              "      <td>110</td>\n",
              "      <td>80</td>\n",
              "    </tr>\n",
              "    <tr>\n",
              "      <th>1</th>\n",
              "      <td>156</td>\n",
              "      <td>85.0</td>\n",
              "      <td>35.0</td>\n",
              "      <td>55</td>\n",
              "      <td>140</td>\n",
              "      <td>90</td>\n",
              "    </tr>\n",
              "    <tr>\n",
              "      <th>2</th>\n",
              "      <td>165</td>\n",
              "      <td>64.0</td>\n",
              "      <td>24.0</td>\n",
              "      <td>52</td>\n",
              "      <td>130</td>\n",
              "      <td>70</td>\n",
              "    </tr>\n",
              "    <tr>\n",
              "      <th>3</th>\n",
              "      <td>169</td>\n",
              "      <td>82.0</td>\n",
              "      <td>29.0</td>\n",
              "      <td>48</td>\n",
              "      <td>150</td>\n",
              "      <td>100</td>\n",
              "    </tr>\n",
              "    <tr>\n",
              "      <th>4</th>\n",
              "      <td>156</td>\n",
              "      <td>56.0</td>\n",
              "      <td>23.0</td>\n",
              "      <td>48</td>\n",
              "      <td>100</td>\n",
              "      <td>60</td>\n",
              "    </tr>\n",
              "  </tbody>\n",
              "</table>\n",
              "</div>"
            ],
            "text/plain": [
              "   height  weight   IMC  age  ap_hi  ap_lo\n",
              "0     168    62.0  22.0   50    110     80\n",
              "1     156    85.0  35.0   55    140     90\n",
              "2     165    64.0  24.0   52    130     70\n",
              "3     169    82.0  29.0   48    150    100\n",
              "4     156    56.0  23.0   48    100     60"
            ]
          },
          "metadata": {
            "tags": []
          },
          "execution_count": 66
        }
      ]
    },
    {
      "cell_type": "code",
      "metadata": {
        "colab": {
          "base_uri": "https://localhost:8080/"
        },
        "id": "2Q0sMS-Bii-B",
        "outputId": "832292e2-c189-4c25-da28-f621bfb69e39"
      },
      "source": [
        "#o valor p pode não ser preciso para N> 5000.\n",
        "shapiro_stat,shapiro_p_valor = scs.shapiro(shapiro_test)\n",
        "print('O valor da estatística de Shapiro-Wilk = ' + str(shapiro_stat))\n",
        "print('O valor de p de Shapiro-Wilk = ' + str(shapiro_p_valor))"
      ],
      "execution_count": null,
      "outputs": [
        {
          "output_type": "stream",
          "text": [
            "O valor da estatística de Shapiro-Wilk = 0.24665260314941406\n",
            "O valor de p de Shapiro-Wilk = 0.0\n"
          ],
          "name": "stdout"
        },
        {
          "output_type": "stream",
          "text": [
            "/usr/local/lib/python3.7/dist-packages/scipy/stats/morestats.py:1676: UserWarning: p-value may not be accurate for N > 5000.\n",
            "  warnings.warn(\"p-value may not be accurate for N > 5000.\")\n"
          ],
          "name": "stderr"
        }
      ]
    },
    {
      "cell_type": "code",
      "metadata": {
        "colab": {
          "base_uri": "https://localhost:8080/"
        },
        "id": "glFcJy5sl0Eh",
        "outputId": "bd3170a0-5387-47ee-b904-c3d243c111f8"
      },
      "source": [
        "data.info()"
      ],
      "execution_count": null,
      "outputs": [
        {
          "output_type": "stream",
          "text": [
            "<class 'pandas.core.frame.DataFrame'>\n",
            "RangeIndex: 70000 entries, 0 to 69999\n",
            "Data columns (total 14 columns):\n",
            " #   Column       Non-Null Count  Dtype  \n",
            "---  ------       --------------  -----  \n",
            " 0   id           70000 non-null  int64  \n",
            " 1   age          70000 non-null  int64  \n",
            " 2   gender       70000 non-null  object \n",
            " 3   height       70000 non-null  int64  \n",
            " 4   weight       70000 non-null  float64\n",
            " 5   ap_hi        70000 non-null  int64  \n",
            " 6   ap_lo        70000 non-null  int64  \n",
            " 7   cholesterol  70000 non-null  object \n",
            " 8   gluc         70000 non-null  object \n",
            " 9   smoke        70000 non-null  object \n",
            " 10  alco         70000 non-null  object \n",
            " 11  active       70000 non-null  object \n",
            " 12  cardio       70000 non-null  object \n",
            " 13  IMC          70000 non-null  float64\n",
            "dtypes: float64(2), int64(5), object(7)\n",
            "memory usage: 7.5+ MB\n"
          ],
          "name": "stdout"
        }
      ]
    },
    {
      "cell_type": "markdown",
      "metadata": {
        "id": "4utFOSEXVU18"
      },
      "source": [
        "##grafico atividade e cardio"
      ]
    },
    {
      "cell_type": "code",
      "metadata": {
        "id": "KTx-lRVZLt2n"
      },
      "source": [
        "plt.figure(figsize=(10, 6))\n",
        "sns.countplot(x = 'active' ,hue = 'cardio',data = new_data, palette='RdBu')\n",
        "plt.title('Gráfico da relação entre atividade física e problema cardíaco \\n')\n",
        "plt.xlabel('atividade física')\n",
        "plt.ylabel('Frequência Absoluta')\n"
      ],
      "execution_count": null,
      "outputs": []
    },
    {
      "cell_type": "markdown",
      "metadata": {
        "id": "APQ_gt-iVY3w"
      },
      "source": [
        "##grafico colesterol e cardio"
      ]
    },
    {
      "cell_type": "code",
      "metadata": {
        "colab": {
          "base_uri": "https://localhost:8080/",
          "height": 438
        },
        "id": "upgaO3hYNTDh",
        "outputId": "c97048bc-9649-4d73-b361-8162f0bd8541"
      },
      "source": [
        "plt.figure(figsize=(10, 6))\n",
        "sns.countplot(x = 'cholesterol' ,hue = 'cardio',data = new_data, palette='RdBu')\n",
        "plt.title('Gráfico da relação entre níveis de colesterol e problema cardíaco \\n')\n",
        "plt.xlabel('Níveis de colesterol ')\n",
        "plt.ylabel('Frequência Absoluta')\n"
      ],
      "execution_count": null,
      "outputs": [
        {
          "output_type": "execute_result",
          "data": {
            "text/plain": [
              "Text(0, 0.5, 'Frequência Absoluta')"
            ]
          },
          "metadata": {
            "tags": []
          },
          "execution_count": 84
        },
        {
          "output_type": "display_data",
          "data": {
            "image/png": "[encoded data removed]",
            "text/plain": [
              "<Figure size 720x432 with 1 Axes>"
            ]
          },
          "metadata": {
            "tags": [],
            "needs_background": "light"
          }
        }
      ]
    },
    {
      "cell_type": "code",
      "metadata": {
        "colab": {
          "base_uri": "https://localhost:8080/",
          "height": 409
        },
        "id": "UeHVBB8uO47x",
        "outputId": "596e8b60-2b5b-43d7-c0a1-81c09fc573b2"
      },
      "source": [
        "plt.figure(figsize=(10, 6))\n",
        "sns.relplot(x= 'cardio',y = 'age',data=idades,hue='gender',palette='RdBu')\n",
        "plt.xticks(fontsize=12)\n",
        "plt.yticks(fontsize=12)\n",
        "plt.ylim(20, 70)\n",
        "plt.grid(linestyle='--')\n",
        "sns.despine()"
      ],
      "execution_count": null,
      "outputs": [
        {
          "output_type": "display_data",
          "data": {
            "text/plain": [
              "<Figure size 720x432 with 0 Axes>"
            ]
          },
          "metadata": {
            "tags": []
          }
        },
        {
          "output_type": "display_data",
          "data": {
            "image/png": "[encoded data removed]",
            "text/plain": [
              "<Figure size 432.25x360 with 1 Axes>"
            ]
          },
          "metadata": {
            "tags": [],
            "needs_background": "light"
          }
        }
      ]
    }
  ]
}